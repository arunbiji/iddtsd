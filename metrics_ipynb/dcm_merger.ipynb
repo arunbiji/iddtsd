{
 "cells": [
  {
   "cell_type": "code",
   "execution_count": 1,
   "metadata": {},
   "outputs": [
    {
     "name": "stderr",
     "output_type": "stream",
     "text": [
      "C:\\ProgramData\\Anaconda3\\envs\\tf_objdetect\\lib\\site-packages\\tensorflow\\python\\framework\\dtypes.py:516: FutureWarning: Passing (type, 1) or '1type' as a synonym of type is deprecated; in a future version of numpy, it will be understood as (type, (1,)) / '(1,)type'.\n",
      "  _np_qint8 = np.dtype([(\"qint8\", np.int8, 1)])\n",
      "C:\\ProgramData\\Anaconda3\\envs\\tf_objdetect\\lib\\site-packages\\tensorflow\\python\\framework\\dtypes.py:517: FutureWarning: Passing (type, 1) or '1type' as a synonym of type is deprecated; in a future version of numpy, it will be understood as (type, (1,)) / '(1,)type'.\n",
      "  _np_quint8 = np.dtype([(\"quint8\", np.uint8, 1)])\n",
      "C:\\ProgramData\\Anaconda3\\envs\\tf_objdetect\\lib\\site-packages\\tensorflow\\python\\framework\\dtypes.py:518: FutureWarning: Passing (type, 1) or '1type' as a synonym of type is deprecated; in a future version of numpy, it will be understood as (type, (1,)) / '(1,)type'.\n",
      "  _np_qint16 = np.dtype([(\"qint16\", np.int16, 1)])\n",
      "C:\\ProgramData\\Anaconda3\\envs\\tf_objdetect\\lib\\site-packages\\tensorflow\\python\\framework\\dtypes.py:519: FutureWarning: Passing (type, 1) or '1type' as a synonym of type is deprecated; in a future version of numpy, it will be understood as (type, (1,)) / '(1,)type'.\n",
      "  _np_quint16 = np.dtype([(\"quint16\", np.uint16, 1)])\n",
      "C:\\ProgramData\\Anaconda3\\envs\\tf_objdetect\\lib\\site-packages\\tensorflow\\python\\framework\\dtypes.py:520: FutureWarning: Passing (type, 1) or '1type' as a synonym of type is deprecated; in a future version of numpy, it will be understood as (type, (1,)) / '(1,)type'.\n",
      "  _np_qint32 = np.dtype([(\"qint32\", np.int32, 1)])\n",
      "C:\\ProgramData\\Anaconda3\\envs\\tf_objdetect\\lib\\site-packages\\tensorflow\\python\\framework\\dtypes.py:525: FutureWarning: Passing (type, 1) or '1type' as a synonym of type is deprecated; in a future version of numpy, it will be understood as (type, (1,)) / '(1,)type'.\n",
      "  np_resource = np.dtype([(\"resource\", np.ubyte, 1)])\n",
      "C:\\ProgramData\\Anaconda3\\envs\\tf_objdetect\\lib\\site-packages\\tensorboard\\compat\\tensorflow_stub\\dtypes.py:541: FutureWarning: Passing (type, 1) or '1type' as a synonym of type is deprecated; in a future version of numpy, it will be understood as (type, (1,)) / '(1,)type'.\n",
      "  _np_qint8 = np.dtype([(\"qint8\", np.int8, 1)])\n",
      "C:\\ProgramData\\Anaconda3\\envs\\tf_objdetect\\lib\\site-packages\\tensorboard\\compat\\tensorflow_stub\\dtypes.py:542: FutureWarning: Passing (type, 1) or '1type' as a synonym of type is deprecated; in a future version of numpy, it will be understood as (type, (1,)) / '(1,)type'.\n",
      "  _np_quint8 = np.dtype([(\"quint8\", np.uint8, 1)])\n",
      "C:\\ProgramData\\Anaconda3\\envs\\tf_objdetect\\lib\\site-packages\\tensorboard\\compat\\tensorflow_stub\\dtypes.py:543: FutureWarning: Passing (type, 1) or '1type' as a synonym of type is deprecated; in a future version of numpy, it will be understood as (type, (1,)) / '(1,)type'.\n",
      "  _np_qint16 = np.dtype([(\"qint16\", np.int16, 1)])\n",
      "C:\\ProgramData\\Anaconda3\\envs\\tf_objdetect\\lib\\site-packages\\tensorboard\\compat\\tensorflow_stub\\dtypes.py:544: FutureWarning: Passing (type, 1) or '1type' as a synonym of type is deprecated; in a future version of numpy, it will be understood as (type, (1,)) / '(1,)type'.\n",
      "  _np_quint16 = np.dtype([(\"quint16\", np.uint16, 1)])\n",
      "C:\\ProgramData\\Anaconda3\\envs\\tf_objdetect\\lib\\site-packages\\tensorboard\\compat\\tensorflow_stub\\dtypes.py:545: FutureWarning: Passing (type, 1) or '1type' as a synonym of type is deprecated; in a future version of numpy, it will be understood as (type, (1,)) / '(1,)type'.\n",
      "  _np_qint32 = np.dtype([(\"qint32\", np.int32, 1)])\n",
      "C:\\ProgramData\\Anaconda3\\envs\\tf_objdetect\\lib\\site-packages\\tensorboard\\compat\\tensorflow_stub\\dtypes.py:550: FutureWarning: Passing (type, 1) or '1type' as a synonym of type is deprecated; in a future version of numpy, it will be understood as (type, (1,)) / '(1,)type'.\n",
      "  np_resource = np.dtype([(\"resource\", np.ubyte, 1)])\n"
     ]
    }
   ],
   "source": [
    "import glob\n",
    "import os\n",
    "from os import listdir, getcwd\n",
    "from os.path import join\n",
    "\n",
    "import csv\n",
    "\n",
    "import numpy as np\n",
    "import pandas as pd\n",
    "\n",
    "import utils"
   ]
  },
  {
   "cell_type": "code",
   "execution_count": 2,
   "metadata": {},
   "outputs": [],
   "source": [
    "meta_dir = 'D:/Workarea/TSD/_metadata'\n",
    "yolo_dtdir = 'D:/Workarea/TSD/_results/final/12_yolov4-c2550_102050px_dcm672_v12/25050'\n",
    "yolo_destdir = 'D:/Workarea/TSD/_results/final/12_yolov4-c2550_102050px_dcm672_v12/25050'\n",
    "\n",
    "CONF = 0.25\n",
    "#CONF = 0.1\n",
    "IOU_RATE = 1"
   ]
  },
  {
   "cell_type": "code",
   "execution_count": 3,
   "metadata": {},
   "outputs": [
    {
     "data": {
      "text/html": [
       "<div>\n",
       "<style scoped>\n",
       "    .dataframe tbody tr th:only-of-type {\n",
       "        vertical-align: middle;\n",
       "    }\n",
       "\n",
       "    .dataframe tbody tr th {\n",
       "        vertical-align: top;\n",
       "    }\n",
       "\n",
       "    .dataframe thead th {\n",
       "        text-align: right;\n",
       "    }\n",
       "</style>\n",
       "<table border=\"1\" class=\"dataframe\">\n",
       "  <thead>\n",
       "    <tr style=\"text-align: right;\">\n",
       "      <th></th>\n",
       "      <th>cut_set</th>\n",
       "      <th>image_size</th>\n",
       "      <th>cut_tag</th>\n",
       "      <th>cut_xnum</th>\n",
       "      <th>cut_ynum</th>\n",
       "      <th>cut_xsize</th>\n",
       "      <th>cut_ysize</th>\n",
       "      <th>cut_xorigin</th>\n",
       "      <th>cut_yorigin</th>\n",
       "      <th>cut_xover</th>\n",
       "      <th>cut_yover</th>\n",
       "    </tr>\n",
       "  </thead>\n",
       "  <tbody>\n",
       "    <tr>\n",
       "      <th>0</th>\n",
       "      <td>672</td>\n",
       "      <td>1920x1080</td>\n",
       "      <td>2x3</td>\n",
       "      <td>3</td>\n",
       "      <td>2</td>\n",
       "      <td>672</td>\n",
       "      <td>672</td>\n",
       "      <td>0;624;1248;0;624;1248</td>\n",
       "      <td>0;0;0;408;408;408</td>\n",
       "      <td>0.037</td>\n",
       "      <td>0.244</td>\n",
       "    </tr>\n",
       "    <tr>\n",
       "      <th>1</th>\n",
       "      <td>672</td>\n",
       "      <td>1921x1080</td>\n",
       "      <td>2x3</td>\n",
       "      <td>3</td>\n",
       "      <td>2</td>\n",
       "      <td>672</td>\n",
       "      <td>672</td>\n",
       "      <td>0;625;1249;0;625;1249</td>\n",
       "      <td>0;0;0;408;408;408</td>\n",
       "      <td>0.037</td>\n",
       "      <td>0.244</td>\n",
       "    </tr>\n",
       "    <tr>\n",
       "      <th>2</th>\n",
       "      <td>672</td>\n",
       "      <td>1280x964</td>\n",
       "      <td>2x2</td>\n",
       "      <td>2</td>\n",
       "      <td>2</td>\n",
       "      <td>672</td>\n",
       "      <td>672</td>\n",
       "      <td>0;608;0;608</td>\n",
       "      <td>0;0;292;292</td>\n",
       "      <td>0.050</td>\n",
       "      <td>0.394</td>\n",
       "    </tr>\n",
       "    <tr>\n",
       "      <th>3</th>\n",
       "      <td>672</td>\n",
       "      <td>1280x720</td>\n",
       "      <td>2x2</td>\n",
       "      <td>2</td>\n",
       "      <td>2</td>\n",
       "      <td>672</td>\n",
       "      <td>672</td>\n",
       "      <td>0;608;0;608</td>\n",
       "      <td>0;0;48;48</td>\n",
       "      <td>0.050</td>\n",
       "      <td>0.867</td>\n",
       "    </tr>\n",
       "  </tbody>\n",
       "</table>\n",
       "</div>"
      ],
      "text/plain": [
       "   cut_set image_size cut_tag  cut_xnum  cut_ynum  cut_xsize  cut_ysize  \\\n",
       "0      672  1920x1080     2x3         3         2        672        672   \n",
       "1      672  1921x1080     2x3         3         2        672        672   \n",
       "2      672   1280x964     2x2         2         2        672        672   \n",
       "3      672   1280x720     2x2         2         2        672        672   \n",
       "\n",
       "             cut_xorigin        cut_yorigin  cut_xover  cut_yover  \n",
       "0  0;624;1248;0;624;1248  0;0;0;408;408;408      0.037      0.244  \n",
       "1  0;625;1249;0;625;1249  0;0;0;408;408;408      0.037      0.244  \n",
       "2            0;608;0;608        0;0;292;292      0.050      0.394  \n",
       "3            0;608;0;608          0;0;48;48      0.050      0.867  "
      ]
     },
     "execution_count": 3,
     "metadata": {},
     "output_type": "execute_result"
    }
   ],
   "source": [
    "ts_dcm_splits = pd.read_csv(meta_dir + '/dcm_splits.csv', sep=',', encoding='utf-8')\n",
    "ts_dcm_splits"
   ]
  },
  {
   "cell_type": "markdown",
   "metadata": {},
   "source": [
    "## Merge detection files"
   ]
  },
  {
   "cell_type": "code",
   "execution_count": 4,
   "metadata": {},
   "outputs": [],
   "source": [
    "utils.dcmMergeYolo(ts_dcm_splits, yolo_dtdir + \"/val/labels\", yolo_destdir + \"/val/labels_merged\", CONF, IOU_RATE)"
   ]
  },
  {
   "cell_type": "code",
   "execution_count": 5,
   "metadata": {},
   "outputs": [],
   "source": [
    "utils.dcmMergeYolo(ts_dcm_splits, yolo_dtdir + \"/test/labels\", yolo_destdir + \"/test/labels_merged\", CONF, IOU_RATE)"
   ]
  },
  {
   "cell_type": "code",
   "execution_count": 6,
   "metadata": {},
   "outputs": [],
   "source": [
    "utils.dcmMergeYolo(ts_dcm_splits, yolo_dtdir + \"/valtest/labels\", yolo_destdir + \"/valtest/labels_merged\", CONF, IOU_RATE)"
   ]
  },
  {
   "cell_type": "code",
   "execution_count": null,
   "metadata": {},
   "outputs": [],
   "source": []
  }
 ],
 "metadata": {
  "kernelspec": {
   "display_name": "TF_OBJDETECT",
   "language": "python",
   "name": "tf_objdetect"
  },
  "language_info": {
   "codemirror_mode": {
    "name": "ipython",
    "version": 3
   },
   "file_extension": ".py",
   "mimetype": "text/x-python",
   "name": "python",
   "nbconvert_exporter": "python",
   "pygments_lexer": "ipython3",
   "version": "3.7.3"
  }
 },
 "nbformat": 4,
 "nbformat_minor": 4
}
