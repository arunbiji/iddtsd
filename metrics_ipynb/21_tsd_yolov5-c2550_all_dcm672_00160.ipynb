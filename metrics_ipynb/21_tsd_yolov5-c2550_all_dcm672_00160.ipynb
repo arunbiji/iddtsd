{
 "cells": [
  {
   "cell_type": "code",
   "execution_count": 1,
   "metadata": {},
   "outputs": [],
   "source": [
    "import pandas as pd\n",
    "import csv\n",
    "import os\n",
    "import cv2\n",
    "\n",
    "import json\n",
    "from math import isclose\n",
    "\n",
    "from object_detection_metrics.bounding_box import BBFormat, BBType, BoundingBox\n",
    "from object_detection_metrics.evaluators.coco_evaluator import get_coco_summary\n",
    "from object_detection_metrics.utils.converter import text2bb\n",
    "\n",
    "from map import map\n",
    "\n",
    "import metric_utils"
   ]
  },
  {
   "cell_type": "code",
   "execution_count": 2,
   "metadata": {},
   "outputs": [],
   "source": [
    "results_path = \"D:/Workarea/TSD/_results/final/21_yolov5-c2550_all_dcm672_v12/00160\"\n",
    "meta_dir = \"D:/Workarea/TSD/_metadata\"\n",
    "gt_dir = \"D:/Workarea/TSD/_data/all/yolo_pytorch_dcm\""
   ]
  },
  {
   "cell_type": "code",
   "execution_count": 3,
   "metadata": {},
   "outputs": [
    {
     "data": {
      "text/html": [
       "<div>\n",
       "<style scoped>\n",
       "    .dataframe tbody tr th:only-of-type {\n",
       "        vertical-align: middle;\n",
       "    }\n",
       "\n",
       "    .dataframe tbody tr th {\n",
       "        vertical-align: top;\n",
       "    }\n",
       "\n",
       "    .dataframe thead th {\n",
       "        text-align: right;\n",
       "    }\n",
       "</style>\n",
       "<table border=\"1\" class=\"dataframe\">\n",
       "  <thead>\n",
       "    <tr style=\"text-align: right;\">\n",
       "      <th></th>\n",
       "      <th>class_id</th>\n",
       "      <th>class_name</th>\n",
       "      <th>class_desc</th>\n",
       "    </tr>\n",
       "  </thead>\n",
       "  <tbody>\n",
       "    <tr>\n",
       "      <th>0</th>\n",
       "      <td>0</td>\n",
       "      <td>mandatory</td>\n",
       "      <td>NaN</td>\n",
       "    </tr>\n",
       "    <tr>\n",
       "      <th>1</th>\n",
       "      <td>1</td>\n",
       "      <td>warning</td>\n",
       "      <td>NaN</td>\n",
       "    </tr>\n",
       "    <tr>\n",
       "      <th>2</th>\n",
       "      <td>2</td>\n",
       "      <td>informatory</td>\n",
       "      <td>NaN</td>\n",
       "    </tr>\n",
       "    <tr>\n",
       "      <th>3</th>\n",
       "      <td>3</td>\n",
       "      <td>milestone</td>\n",
       "      <td>NaN</td>\n",
       "    </tr>\n",
       "    <tr>\n",
       "      <th>4</th>\n",
       "      <td>4</td>\n",
       "      <td>barrier-hazard</td>\n",
       "      <td>NaN</td>\n",
       "    </tr>\n",
       "    <tr>\n",
       "      <th>5</th>\n",
       "      <td>5</td>\n",
       "      <td>other</td>\n",
       "      <td>NaN</td>\n",
       "    </tr>\n",
       "  </tbody>\n",
       "</table>\n",
       "</div>"
      ],
      "text/plain": [
       "   class_id      class_name  class_desc\n",
       "0         0       mandatory         NaN\n",
       "1         1         warning         NaN\n",
       "2         2     informatory         NaN\n",
       "3         3       milestone         NaN\n",
       "4         4  barrier-hazard         NaN\n",
       "5         5           other         NaN"
      ]
     },
     "execution_count": 3,
     "metadata": {},
     "output_type": "execute_result"
    }
   ],
   "source": [
    "ts_class = pd.read_csv(meta_dir + '/ts_class.csv', sep=',', encoding='utf-8')\n",
    "ts_class"
   ]
  },
  {
   "cell_type": "markdown",
   "metadata": {},
   "source": [
    "# Cuts"
   ]
  },
  {
   "cell_type": "markdown",
   "metadata": {},
   "source": [
    "## Detections"
   ]
  },
  {
   "cell_type": "code",
   "execution_count": 4,
   "metadata": {},
   "outputs": [],
   "source": [
    "#Convert val detections\n",
    "metric_utils.yolo2text_dt(results_path + \"/val/labels\", results_path + \"/dt/val\", 0.001)"
   ]
  },
  {
   "cell_type": "code",
   "execution_count": 5,
   "metadata": {},
   "outputs": [],
   "source": [
    "#Convert val detections\n",
    "metric_utils.yolo2text_dt(results_path + \"/test/labels\", results_path + \"/dt/test\", 0.001)"
   ]
  },
  {
   "cell_type": "code",
   "execution_count": 6,
   "metadata": {},
   "outputs": [],
   "source": [
    "#Convert val detections\n",
    "metric_utils.yolo2text_dt(results_path + \"/valtest/labels\", results_path + \"/dt/valtest\", 0.001)"
   ]
  },
  {
   "cell_type": "markdown",
   "metadata": {},
   "source": [
    "## Ground Truths"
   ]
  },
  {
   "cell_type": "code",
   "execution_count": 7,
   "metadata": {},
   "outputs": [],
   "source": [
    "#Convert val gt\n",
    "metric_utils.yolo2text_gt(gt_dir + \"/val/labels\", results_path + \"/gt/val/\")"
   ]
  },
  {
   "cell_type": "code",
   "execution_count": 8,
   "metadata": {},
   "outputs": [],
   "source": [
    "#Convert test gt\n",
    "metric_utils.yolo2text_gt(gt_dir + \"/test/labels\", results_path + \"/gt/test/\")"
   ]
  },
  {
   "cell_type": "code",
   "execution_count": 9,
   "metadata": {},
   "outputs": [],
   "source": [
    "#Convert valtest gt\n",
    "metric_utils.yolo2text_gt(gt_dir + \"/valtest/labels\", results_path + \"/gt/valtest/\")"
   ]
  },
  {
   "cell_type": "markdown",
   "metadata": {},
   "source": [
    "## Missing anot generator"
   ]
  },
  {
   "cell_type": "code",
   "execution_count": 10,
   "metadata": {},
   "outputs": [],
   "source": [
    "#Sync missing val files instances to dt\n",
    "metric_utils.missing_file_gen(results_path + \"/gt/val/\", results_path + \"/dt/val/\", \"txt\")"
   ]
  },
  {
   "cell_type": "code",
   "execution_count": 11,
   "metadata": {},
   "outputs": [],
   "source": [
    "#Sync missing test files instances to dt\n",
    "metric_utils.missing_file_gen(results_path + \"/gt/test/\", results_path + \"/dt/test/\", \"txt\")"
   ]
  },
  {
   "cell_type": "code",
   "execution_count": 12,
   "metadata": {},
   "outputs": [],
   "source": [
    "#Sync missing valtest files instances to dt\n",
    "metric_utils.missing_file_gen(results_path + \"/gt/valtest/\", results_path + \"/dt/valtest/\", \"txt\")"
   ]
  },
  {
   "cell_type": "markdown",
   "metadata": {},
   "source": [
    "## MAP"
   ]
  },
  {
   "cell_type": "markdown",
   "metadata": {},
   "source": [
    "### val"
   ]
  },
  {
   "cell_type": "code",
   "execution_count": 13,
   "metadata": {
    "scrolled": true
   },
   "outputs": [
    {
     "data": {
      "text/plain": [
       "{'AP': 0.322814570143649,\n",
       " 'AP50': 0.6204154042922286,\n",
       " 'AP75': 0.29695420430675434,\n",
       " 'APsmall': 0.23306932736380018,\n",
       " 'APmedium': 0.4883363459767428,\n",
       " 'APlarge': 0.5378815881214357,\n",
       " 'AR1': 0.36740966068335135,\n",
       " 'AR10': 0.45647658347845665,\n",
       " 'AR100': 0.4656135477711884,\n",
       " 'ARsmall': 0.389830974626955,\n",
       " 'ARmedium': 0.6264921101080128,\n",
       " 'ARlarge': 0.6495976465055412}"
      ]
     },
     "execution_count": 13,
     "metadata": {},
     "output_type": "execute_result"
    }
   ],
   "source": [
    "# Object Detection Metrics\n",
    "gts = text2bb(results_path + \"/gt/val/\", BBType.GROUND_TRUTH, BBFormat.XYX2Y2)\n",
    "dts = text2bb(results_path + \"/dt/val/\", BBType.DETECTED, BBFormat.XYX2Y2)\n",
    "\n",
    "result = get_coco_summary(gts, dts)\n",
    "result"
   ]
  },
  {
   "cell_type": "code",
   "execution_count": 14,
   "metadata": {},
   "outputs": [
    {
     "name": "stdout",
     "output_type": "stream",
     "text": [
      "0 AP = 76.48%\n",
      "1 AP = 82.56%\n",
      "2 AP = 72.87%\n",
      "3 AP = 61.23%\n",
      "4 AP = 55.47%\n",
      "5 AP = 33.35%\n",
      "mAP = 63.66%\n",
      "All:  (gt:4780, dt:140234, tp:3964, fp:136270, msp: 2.83%, msr: 82.93%)\n",
      "\n"
     ]
    }
   ],
   "source": [
    "#mAP Calculator\n",
    "map.calc_map(results_path + \"/gt/val/\", \n",
    "             results_path + \"/dt/val/\", \n",
    "             results_path + \"/map_out_cuts/val/\",\n",
    "             0.5)"
   ]
  },
  {
   "cell_type": "markdown",
   "metadata": {},
   "source": [
    "### test"
   ]
  },
  {
   "cell_type": "code",
   "execution_count": 15,
   "metadata": {
    "scrolled": true
   },
   "outputs": [
    {
     "data": {
      "text/plain": [
       "{'AP': 0.32835517105762885,\n",
       " 'AP50': 0.5988726339816203,\n",
       " 'AP75': 0.3099476585840936,\n",
       " 'APsmall': 0.1799128371431929,\n",
       " 'APmedium': 0.5006853260865654,\n",
       " 'APlarge': 0.6729704224513486,\n",
       " 'AR1': 0.3751759702873771,\n",
       " 'AR10': 0.47581150871745476,\n",
       " 'AR100': 0.48506318952278016,\n",
       " 'ARsmall': 0.36020777723765185,\n",
       " 'ARmedium': 0.6327285429203123,\n",
       " 'ARlarge': 0.7518141945773524}"
      ]
     },
     "execution_count": 15,
     "metadata": {},
     "output_type": "execute_result"
    }
   ],
   "source": [
    "# Object Detection Metrics\n",
    "gts = text2bb(results_path + \"/gt/test/\", BBType.GROUND_TRUTH, BBFormat.XYX2Y2)\n",
    "dts = text2bb(results_path + \"/dt/test/\", BBType.DETECTED, BBFormat.XYX2Y2)\n",
    "\n",
    "result = get_coco_summary(gts, dts)\n",
    "result"
   ]
  },
  {
   "cell_type": "code",
   "execution_count": 16,
   "metadata": {},
   "outputs": [
    {
     "name": "stdout",
     "output_type": "stream",
     "text": [
      "0 AP = 68.06%\n",
      "1 AP = 71.95%\n",
      "2 AP = 59.64%\n",
      "3 AP = 45.96%\n",
      "4 AP = 67.41%\n",
      "5 AP = 51.66%\n",
      "mAP = 60.78%\n",
      "All:  (gt:2294, dt:71465, tp:1948, fp:69517, msp: 2.73%, msr: 84.92%)\n",
      "\n"
     ]
    }
   ],
   "source": [
    "#mAP Calculator\n",
    "map.calc_map(results_path + \"/gt/test/\", \n",
    "             results_path + \"/dt/test/\", \n",
    "             results_path + \"/map_out_cuts/test/\",\n",
    "             0.5)"
   ]
  },
  {
   "cell_type": "markdown",
   "metadata": {},
   "source": [
    "### valtest"
   ]
  },
  {
   "cell_type": "code",
   "execution_count": 17,
   "metadata": {
    "scrolled": true
   },
   "outputs": [
    {
     "data": {
      "text/plain": [
       "{'AP': 0.3201173122232042,\n",
       " 'AP50': 0.6075870812775765,\n",
       " 'AP75': 0.2972062709279379,\n",
       " 'APsmall': 0.21395163905852102,\n",
       " 'APmedium': 0.49019356367445216,\n",
       " 'APlarge': 0.5722235195277371,\n",
       " 'AR1': 0.364677290606432,\n",
       " 'AR10': 0.4584177017432308,\n",
       " 'AR100': 0.46730119678339466,\n",
       " 'ARsmall': 0.37713487746753116,\n",
       " 'ARmedium': 0.6294398016690451,\n",
       " 'ARlarge': 0.6892596844593412}"
      ]
     },
     "execution_count": 17,
     "metadata": {},
     "output_type": "execute_result"
    }
   ],
   "source": [
    "# Object Detection Metrics\n",
    "gts = text2bb(results_path + \"/gt/valtest/\", BBType.GROUND_TRUTH, BBFormat.XYX2Y2)\n",
    "dts = text2bb(results_path + \"/dt/valtest/\", BBType.DETECTED, BBFormat.XYX2Y2)\n",
    "\n",
    "result = get_coco_summary(gts, dts)\n",
    "result"
   ]
  },
  {
   "cell_type": "code",
   "execution_count": 18,
   "metadata": {},
   "outputs": [
    {
     "name": "stdout",
     "output_type": "stream",
     "text": [
      "0 AP = 72.96%\n",
      "1 AP = 78.43%\n",
      "2 AP = 67.74%\n",
      "3 AP = 56.73%\n",
      "4 AP = 58.46%\n",
      "5 AP = 38.74%\n",
      "mAP = 62.18%\n",
      "All:  (gt:7074, dt:211699, tp:5912, fp:205787, msp: 2.79%, msr: 83.57%)\n",
      "\n"
     ]
    }
   ],
   "source": [
    "#mAP Calculator\n",
    "map.calc_map(results_path + \"/gt/valtest/\", \n",
    "             results_path + \"/dt/valtest/\", \n",
    "             results_path + \"/map_out_cuts/valtest/\",\n",
    "             0.5)"
   ]
  },
  {
   "cell_type": "markdown",
   "metadata": {},
   "source": [
    "## Draw bbox"
   ]
  },
  {
   "cell_type": "code",
   "execution_count": 4,
   "metadata": {},
   "outputs": [],
   "source": [
    "metric_utils.comparebb(results_path + \"/gt/val/\", gt_dir + \"/val/images/\", results_path + \"/bb/val_2/\", ['2'], \"gt\")"
   ]
  },
  {
   "cell_type": "code",
   "execution_count": 6,
   "metadata": {},
   "outputs": [],
   "source": [
    "metric_utils.comparebb(results_path + \"/dt/val/\", gt_dir + \"/val/images/\", results_path + \"/bb/val_2/\", ['2'], \"dt\")"
   ]
  },
  {
   "cell_type": "code",
   "execution_count": 93,
   "metadata": {},
   "outputs": [],
   "source": [
    "metric_utils.comparebb(results_path + \"/gt/test/\", gt_dir + \"/test/images/\", results_path + \"/bb/test_2/\", ['2'], \"gt\")"
   ]
  },
  {
   "cell_type": "code",
   "execution_count": 94,
   "metadata": {},
   "outputs": [],
   "source": [
    "metric_utils.comparebb(results_path + \"/dt/test/\", gt_dir + \"/test/images/\", results_path + \"/bb/test_2/\", ['2'], \"dt\")"
   ]
  },
  {
   "cell_type": "code",
   "execution_count": 5,
   "metadata": {},
   "outputs": [],
   "source": [
    "metric_utils.comparebb(results_path + \"/gt/valtest/\", gt_dir + \"/valtest/images/\", results_path + \"/bb/valtest_2/\", ['2'], \"gt\")"
   ]
  },
  {
   "cell_type": "code",
   "execution_count": 5,
   "metadata": {},
   "outputs": [],
   "source": [
    "metric_utils.comparebb(results_path + \"/dt/valtest/\", gt_dir + \"/valtest/images/\", results_path + \"/bb/valtest_2/\", ['2'], \"dt\")"
   ]
  },
  {
   "cell_type": "markdown",
   "metadata": {},
   "source": [
    "# Merged"
   ]
  },
  {
   "cell_type": "code",
   "execution_count": 19,
   "metadata": {},
   "outputs": [],
   "source": [
    "gt_dir = \"D:/Workarea/TSD/_data/all/yolo_pytorch\" #no balancing in val and text sets\n",
    "\n",
    "with open(meta_dir + '/idd_ts_anot_details_v12.csv', newline='') as ts_file:\n",
    "    next(ts_file)\n",
    "    ts_signs = list(csv.reader(ts_file))\n",
    "\n",
    "#print(ts_signs[:5])\n",
    "\n",
    "image_sizes = pd.DataFrame(ts_signs)\n",
    "image_sizes = image_sizes[[0,10]]\n",
    "image_sizes.columns = ['image_id', 'image_size']"
   ]
  },
  {
   "cell_type": "markdown",
   "metadata": {},
   "source": [
    "## Detections"
   ]
  },
  {
   "cell_type": "code",
   "execution_count": 20,
   "metadata": {},
   "outputs": [],
   "source": [
    "#Convert val detections\n",
    "metric_utils.yolo2text_dt(results_path + \"/val/labels_merged\", results_path + \"/dt_merged/val\", 0.001, None, image_sizes)"
   ]
  },
  {
   "cell_type": "code",
   "execution_count": 21,
   "metadata": {},
   "outputs": [],
   "source": [
    "#Convert val detections\n",
    "metric_utils.yolo2text_dt(results_path + \"/test/labels_merged\", results_path + \"/dt_merged/test\", 0.001, None, image_sizes)"
   ]
  },
  {
   "cell_type": "code",
   "execution_count": 22,
   "metadata": {},
   "outputs": [],
   "source": [
    "#Convert val detections\n",
    "metric_utils.yolo2text_dt(results_path + \"/valtest/labels_merged\", results_path + \"/dt_merged/valtest\", 0.001, None, image_sizes)"
   ]
  },
  {
   "cell_type": "markdown",
   "metadata": {},
   "source": [
    "## Ground Truths"
   ]
  },
  {
   "cell_type": "code",
   "execution_count": 23,
   "metadata": {},
   "outputs": [],
   "source": [
    "#Convert val gt\n",
    "metric_utils.yolo2text_gt(gt_dir + \"/val/labels\", results_path + \"/gt_merged/val/\", None, image_sizes)"
   ]
  },
  {
   "cell_type": "code",
   "execution_count": 24,
   "metadata": {},
   "outputs": [],
   "source": [
    "#Convert test gt\n",
    "metric_utils.yolo2text_gt(gt_dir + \"/test/labels\", results_path + \"/gt_merged/test/\", None, image_sizes)"
   ]
  },
  {
   "cell_type": "code",
   "execution_count": 25,
   "metadata": {},
   "outputs": [],
   "source": [
    "#Convert valtest gt\n",
    "metric_utils.yolo2text_gt(gt_dir + \"/valtest/labels\", results_path + \"/gt_merged/valtest/\", None, image_sizes)"
   ]
  },
  {
   "cell_type": "markdown",
   "metadata": {},
   "source": [
    "## Missing anot generator"
   ]
  },
  {
   "cell_type": "code",
   "execution_count": 26,
   "metadata": {},
   "outputs": [],
   "source": [
    "#Sync missing val files instances to dt\n",
    "metric_utils.missing_file_gen(results_path + \"/gt_merged/val/\", results_path + \"/dt_merged/val/\", \"txt\")"
   ]
  },
  {
   "cell_type": "code",
   "execution_count": 27,
   "metadata": {},
   "outputs": [],
   "source": [
    "#Sync missing test files instances to dt\n",
    "metric_utils.missing_file_gen(results_path + \"/gt_merged/test/\", results_path + \"/dt_merged/test/\", \"txt\")"
   ]
  },
  {
   "cell_type": "code",
   "execution_count": 28,
   "metadata": {},
   "outputs": [],
   "source": [
    "#Sync missing valtest files instances to dt\n",
    "metric_utils.missing_file_gen(results_path + \"/gt_merged/valtest/\", results_path + \"/dt_merged/valtest/\", \"txt\")"
   ]
  },
  {
   "cell_type": "markdown",
   "metadata": {},
   "source": [
    "## MAP"
   ]
  },
  {
   "cell_type": "markdown",
   "metadata": {},
   "source": [
    "### val"
   ]
  },
  {
   "cell_type": "code",
   "execution_count": 29,
   "metadata": {
    "scrolled": true
   },
   "outputs": [
    {
     "data": {
      "text/plain": [
       "{'AP': 0.29920514620464406,\n",
       " 'AP50': 0.5940008144733421,\n",
       " 'AP75': 0.2784106261976986,\n",
       " 'APsmall': 0.19379802498513404,\n",
       " 'APmedium': 0.46387229170208283,\n",
       " 'APlarge': 0.5121942824262071,\n",
       " 'AR1': 0.32377077526403547,\n",
       " 'AR10': 0.3752130325276309,\n",
       " 'AR100': 0.37535325688660526,\n",
       " 'ARsmall': 0.275423006596259,\n",
       " 'ARmedium': 0.5412169135535504,\n",
       " 'ARlarge': 0.5769389382547278}"
      ]
     },
     "execution_count": 29,
     "metadata": {},
     "output_type": "execute_result"
    }
   ],
   "source": [
    "# Object Detection Metrics\n",
    "gts = text2bb(results_path + \"/gt_merged/val/\", BBType.GROUND_TRUTH, BBFormat.XYX2Y2)\n",
    "dts = text2bb(results_path + \"/dt_merged/val/\", BBType.DETECTED, BBFormat.XYX2Y2)\n",
    "\n",
    "result = get_coco_summary(gts, dts)\n",
    "result"
   ]
  },
  {
   "cell_type": "code",
   "execution_count": 30,
   "metadata": {},
   "outputs": [
    {
     "name": "stdout",
     "output_type": "stream",
     "text": [
      "0 AP = 76.47%\n",
      "1 AP = 81.16%\n",
      "2 AP = 67.27%\n",
      "3 AP = 62.67%\n",
      "4 AP = 50.09%\n",
      "5 AP = 27.59%\n",
      "mAP = 60.87%\n",
      "All:  (gt:2416, dt:3076, tp:1636, fp:1440, msp: 53.19%, msr: 67.72%)\n",
      "\n"
     ]
    }
   ],
   "source": [
    "#mAP Calculator\n",
    "map.calc_map(results_path + \"/gt_merged/val/\", \n",
    "             results_path + \"/dt_merged/val/\", \n",
    "             results_path + \"/map_out_merged/val/\",\n",
    "             0.5)"
   ]
  },
  {
   "cell_type": "markdown",
   "metadata": {},
   "source": [
    "### test"
   ]
  },
  {
   "cell_type": "code",
   "execution_count": 31,
   "metadata": {
    "scrolled": true
   },
   "outputs": [
    {
     "data": {
      "text/plain": [
       "{'AP': 0.33092450511322424,\n",
       " 'AP50': 0.5973312202790253,\n",
       " 'AP75': 0.3265529781400561,\n",
       " 'APsmall': 0.16248975389351034,\n",
       " 'APmedium': 0.47399234410863955,\n",
       " 'APlarge': 0.6438846703590138,\n",
       " 'AR1': 0.36298209506603446,\n",
       " 'AR10': 0.4128873539770382,\n",
       " 'AR100': 0.41294562903531323,\n",
       " 'ARsmall': 0.23728914830555195,\n",
       " 'ARmedium': 0.5604187724815177,\n",
       " 'ARlarge': 0.7055113210376368}"
      ]
     },
     "execution_count": 31,
     "metadata": {},
     "output_type": "execute_result"
    }
   ],
   "source": [
    "# Object Detection Metrics\n",
    "gts = text2bb(results_path + \"/gt_merged/test/\", BBType.GROUND_TRUTH, BBFormat.XYX2Y2)\n",
    "dts = text2bb(results_path + \"/dt_merged/test/\", BBType.DETECTED, BBFormat.XYX2Y2)\n",
    "\n",
    "result = get_coco_summary(gts, dts)\n",
    "result"
   ]
  },
  {
   "cell_type": "code",
   "execution_count": 32,
   "metadata": {},
   "outputs": [
    {
     "name": "stdout",
     "output_type": "stream",
     "text": [
      "0 AP = 70.99%\n",
      "1 AP = 73.82%\n",
      "2 AP = 48.72%\n",
      "3 AP = 60.58%\n",
      "4 AP = 63.58%\n",
      "5 AP = 43.96%\n",
      "mAP = 60.28%\n",
      "All:  (gt:1178, dt:1489, tp:787, fp:702, msp: 52.85%, msr: 66.81%)\n",
      "\n"
     ]
    }
   ],
   "source": [
    "#mAP Calculator\n",
    "map.calc_map(results_path + \"/gt_merged/test/\", \n",
    "             results_path + \"/dt_merged/test/\", \n",
    "             results_path + \"/map_out_merged/test/\",\n",
    "             0.5)"
   ]
  },
  {
   "cell_type": "markdown",
   "metadata": {},
   "source": [
    "### valtest"
   ]
  },
  {
   "cell_type": "code",
   "execution_count": 33,
   "metadata": {
    "scrolled": true
   },
   "outputs": [
    {
     "data": {
      "text/plain": [
       "{'AP': 0.3030739821971563,\n",
       " 'AP50': 0.5859632533120499,\n",
       " 'AP75': 0.2873722775740742,\n",
       " 'APsmall': 0.1816855167883596,\n",
       " 'APmedium': 0.46444027535093296,\n",
       " 'APlarge': 0.5407273155846031,\n",
       " 'AR1': 0.3299927071360215,\n",
       " 'AR10': 0.3807554701394385,\n",
       " 'AR100': 0.38087473072381534,\n",
       " 'ARsmall': 0.263089507480177,\n",
       " 'ARmedium': 0.5486587621778576,\n",
       " 'ARlarge': 0.6170329518347459}"
      ]
     },
     "execution_count": 33,
     "metadata": {},
     "output_type": "execute_result"
    }
   ],
   "source": [
    "# Object Detection Metrics\n",
    "gts = text2bb(results_path + \"/gt_merged/valtest/\", BBType.GROUND_TRUTH, BBFormat.XYX2Y2)\n",
    "dts = text2bb(results_path + \"/dt_merged/valtest/\", BBType.DETECTED, BBFormat.XYX2Y2)\n",
    "\n",
    "result = get_coco_summary(gts, dts)\n",
    "result"
   ]
  },
  {
   "cell_type": "code",
   "execution_count": 34,
   "metadata": {},
   "outputs": [
    {
     "name": "stdout",
     "output_type": "stream",
     "text": [
      "0 AP = 74.18%\n",
      "1 AP = 78.30%\n",
      "2 AP = 59.83%\n",
      "3 AP = 61.46%\n",
      "4 AP = 53.67%\n",
      "5 AP = 32.12%\n",
      "mAP = 59.93%\n",
      "All:  (gt:3594, dt:4565, tp:2423, fp:2142, msp: 53.08%, msr: 67.42%)\n",
      "\n"
     ]
    }
   ],
   "source": [
    "#mAP Calculator\n",
    "map.calc_map(results_path + \"/gt_merged/valtest/\", \n",
    "             results_path + \"/dt_merged/valtest/\", \n",
    "             results_path + \"/map_out_merged/valtest/\",\n",
    "             0.5)"
   ]
  },
  {
   "cell_type": "markdown",
   "metadata": {},
   "source": [
    "## Draw bbox"
   ]
  },
  {
   "cell_type": "code",
   "execution_count": 5,
   "metadata": {},
   "outputs": [],
   "source": [
    "metric_utils.comparebb(results_path + \"/gt_merged/val/\", gt_dir + \"/val/images/\", \n",
    "                       results_path + \"/bb_merged/val_2/\", ['2'], \"gt\")"
   ]
  },
  {
   "cell_type": "code",
   "execution_count": 70,
   "metadata": {},
   "outputs": [],
   "source": [
    "metric_utils.comparebb(results_path + \"/dt_merged/val/\", gt_dir + \"/val/images/\", \n",
    "                       results_path + \"/bb_merged/val_0/\", ['0'], \"dt\")"
   ]
  },
  {
   "cell_type": "code",
   "execution_count": 72,
   "metadata": {},
   "outputs": [],
   "source": [
    "metric_utils.comparebb(results_path + \"/gt_merged/test/\", gt_dir + \"/test/images/\", \n",
    "                       results_path + \"/bb_merged/test_0/\", ['0'], \"gt\")"
   ]
  },
  {
   "cell_type": "code",
   "execution_count": 71,
   "metadata": {},
   "outputs": [],
   "source": [
    "metric_utils.comparebb(results_path + \"/dt_merged/test/\", gt_dir + \"/test/images/\", \n",
    "                       results_path + \"/bb_merged/test_0/\", ['0'], \"dt\")"
   ]
  },
  {
   "cell_type": "code",
   "execution_count": 66,
   "metadata": {},
   "outputs": [],
   "source": [
    "metric_utils.comparebb(results_path + \"/gt_merged/valtest/\", gt_dir + \"/valtest/images/\", \n",
    "                       results_path + \"/bb_merged/valtest_2/\", ['2'], \"gt\")"
   ]
  },
  {
   "cell_type": "code",
   "execution_count": 67,
   "metadata": {},
   "outputs": [],
   "source": [
    "metric_utils.comparebb(results_path + \"/dt_merged/valtest/\", gt_dir + \"/valtest/images/\", \n",
    "                       results_path + \"/bb_merged/valtest_2/\", ['2'], \"dt\")"
   ]
  },
  {
   "cell_type": "code",
   "execution_count": null,
   "metadata": {},
   "outputs": [],
   "source": []
  }
 ],
 "metadata": {
  "kernelspec": {
   "display_name": "Python 3",
   "language": "python",
   "name": "python3"
  },
  "language_info": {
   "codemirror_mode": {
    "name": "ipython",
    "version": 3
   },
   "file_extension": ".py",
   "mimetype": "text/x-python",
   "name": "python",
   "nbconvert_exporter": "python",
   "pygments_lexer": "ipython3",
   "version": "3.7.3"
  }
 },
 "nbformat": 4,
 "nbformat_minor": 4
}
