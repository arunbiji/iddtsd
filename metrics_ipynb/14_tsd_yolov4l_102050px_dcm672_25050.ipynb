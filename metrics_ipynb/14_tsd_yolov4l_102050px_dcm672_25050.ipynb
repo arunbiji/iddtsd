{
 "cells": [
  {
   "cell_type": "code",
   "execution_count": 1,
   "metadata": {},
   "outputs": [],
   "source": [
    "import pandas as pd\n",
    "import csv\n",
    "import os\n",
    "import cv2\n",
    "\n",
    "import json\n",
    "from math import isclose\n",
    "\n",
    "from object_detection_metrics.bounding_box import BBFormat, BBType, BoundingBox\n",
    "from object_detection_metrics.evaluators.coco_evaluator import get_coco_summary\n",
    "from object_detection_metrics.utils.converter import text2bb\n",
    "\n",
    "from map import map\n",
    "\n",
    "import metric_utils"
   ]
  },
  {
   "cell_type": "code",
   "execution_count": 2,
   "metadata": {},
   "outputs": [],
   "source": [
    "results_path = \"D:/Workarea/TSD/_results/final/14_yolov4l_102050px_dcm672_v12/25050\"\n",
    "meta_dir = \"D:/Workarea/TSD/_metadata\"\n",
    "gt_dir = \"D:/Workarea/TSD/_data/102050px/yolo_pytorch_dcm\""
   ]
  },
  {
   "cell_type": "code",
   "execution_count": 3,
   "metadata": {},
   "outputs": [
    {
     "data": {
      "text/html": [
       "<div>\n",
       "<style scoped>\n",
       "    .dataframe tbody tr th:only-of-type {\n",
       "        vertical-align: middle;\n",
       "    }\n",
       "\n",
       "    .dataframe tbody tr th {\n",
       "        vertical-align: top;\n",
       "    }\n",
       "\n",
       "    .dataframe thead th {\n",
       "        text-align: right;\n",
       "    }\n",
       "</style>\n",
       "<table border=\"1\" class=\"dataframe\">\n",
       "  <thead>\n",
       "    <tr style=\"text-align: right;\">\n",
       "      <th></th>\n",
       "      <th>class_id</th>\n",
       "      <th>class_name</th>\n",
       "      <th>class_desc</th>\n",
       "    </tr>\n",
       "  </thead>\n",
       "  <tbody>\n",
       "    <tr>\n",
       "      <th>0</th>\n",
       "      <td>0</td>\n",
       "      <td>mandatory</td>\n",
       "      <td>NaN</td>\n",
       "    </tr>\n",
       "    <tr>\n",
       "      <th>1</th>\n",
       "      <td>1</td>\n",
       "      <td>warning</td>\n",
       "      <td>NaN</td>\n",
       "    </tr>\n",
       "    <tr>\n",
       "      <th>2</th>\n",
       "      <td>2</td>\n",
       "      <td>informatory</td>\n",
       "      <td>NaN</td>\n",
       "    </tr>\n",
       "    <tr>\n",
       "      <th>3</th>\n",
       "      <td>3</td>\n",
       "      <td>milestone</td>\n",
       "      <td>NaN</td>\n",
       "    </tr>\n",
       "    <tr>\n",
       "      <th>4</th>\n",
       "      <td>4</td>\n",
       "      <td>barrier-hazard</td>\n",
       "      <td>NaN</td>\n",
       "    </tr>\n",
       "    <tr>\n",
       "      <th>5</th>\n",
       "      <td>5</td>\n",
       "      <td>other</td>\n",
       "      <td>NaN</td>\n",
       "    </tr>\n",
       "  </tbody>\n",
       "</table>\n",
       "</div>"
      ],
      "text/plain": [
       "   class_id      class_name  class_desc\n",
       "0         0       mandatory         NaN\n",
       "1         1         warning         NaN\n",
       "2         2     informatory         NaN\n",
       "3         3       milestone         NaN\n",
       "4         4  barrier-hazard         NaN\n",
       "5         5           other         NaN"
      ]
     },
     "execution_count": 3,
     "metadata": {},
     "output_type": "execute_result"
    }
   ],
   "source": [
    "ts_class = pd.read_csv(meta_dir + '/ts_class.csv', sep=',', encoding='utf-8')\n",
    "ts_class"
   ]
  },
  {
   "cell_type": "markdown",
   "metadata": {},
   "source": [
    "# Cuts"
   ]
  },
  {
   "cell_type": "markdown",
   "metadata": {},
   "source": [
    "## Detections"
   ]
  },
  {
   "cell_type": "code",
   "execution_count": 4,
   "metadata": {},
   "outputs": [],
   "source": [
    "#Convert val detections\n",
    "metric_utils.yolo2text_dt(results_path + \"/val/labels\", results_path + \"/dt/val\", 0.25)"
   ]
  },
  {
   "cell_type": "code",
   "execution_count": 5,
   "metadata": {},
   "outputs": [],
   "source": [
    "#Convert val detections\n",
    "metric_utils.yolo2text_dt(results_path + \"/test/labels\", results_path + \"/dt/test\", 0.25)"
   ]
  },
  {
   "cell_type": "code",
   "execution_count": 6,
   "metadata": {},
   "outputs": [],
   "source": [
    "#Convert val detections\n",
    "metric_utils.yolo2text_dt(results_path + \"/valtest/labels\", results_path + \"/dt/valtest\", 0.25)"
   ]
  },
  {
   "cell_type": "markdown",
   "metadata": {},
   "source": [
    "## Ground Truths"
   ]
  },
  {
   "cell_type": "code",
   "execution_count": 7,
   "metadata": {},
   "outputs": [],
   "source": [
    "#Convert val gt\n",
    "metric_utils.yolo2text_gt(gt_dir + \"/val/labels\", results_path + \"/gt/val/\")"
   ]
  },
  {
   "cell_type": "code",
   "execution_count": 8,
   "metadata": {},
   "outputs": [],
   "source": [
    "#Convert test gt\n",
    "metric_utils.yolo2text_gt(gt_dir + \"/test/labels\", results_path + \"/gt/test/\")"
   ]
  },
  {
   "cell_type": "code",
   "execution_count": 9,
   "metadata": {},
   "outputs": [],
   "source": [
    "#Convert valtest gt\n",
    "metric_utils.yolo2text_gt(gt_dir + \"/valtest/labels\", results_path + \"/gt/valtest/\")"
   ]
  },
  {
   "cell_type": "markdown",
   "metadata": {},
   "source": [
    "## Missing anot generator"
   ]
  },
  {
   "cell_type": "code",
   "execution_count": 10,
   "metadata": {},
   "outputs": [],
   "source": [
    "#Sync missing val files instances to dt\n",
    "metric_utils.missing_file_gen(results_path + \"/gt/val/\", results_path + \"/dt/val/\", \"txt\")"
   ]
  },
  {
   "cell_type": "code",
   "execution_count": 11,
   "metadata": {},
   "outputs": [],
   "source": [
    "#Sync missing test files instances to dt\n",
    "metric_utils.missing_file_gen(results_path + \"/gt/test/\", results_path + \"/dt/test/\", \"txt\")"
   ]
  },
  {
   "cell_type": "code",
   "execution_count": 12,
   "metadata": {},
   "outputs": [],
   "source": [
    "#Sync missing valtest files instances to dt\n",
    "metric_utils.missing_file_gen(results_path + \"/gt/valtest/\", results_path + \"/dt/valtest/\", \"txt\")"
   ]
  },
  {
   "cell_type": "markdown",
   "metadata": {},
   "source": [
    "## MAP"
   ]
  },
  {
   "cell_type": "markdown",
   "metadata": {},
   "source": [
    "### val"
   ]
  },
  {
   "cell_type": "code",
   "execution_count": 13,
   "metadata": {
    "scrolled": true
   },
   "outputs": [
    {
     "data": {
      "text/plain": [
       "{'AP': 0.4130057555347564,\n",
       " 'AP50': 0.7047842715976875,\n",
       " 'AP75': 0.4380467503221221,\n",
       " 'APsmall': 0.2668199535750724,\n",
       " 'APmedium': 0.4565104837859103,\n",
       " 'APlarge': 0.5488526412417932,\n",
       " 'AR1': 0.4644860044090161,\n",
       " 'AR10': 0.48480832305445526,\n",
       " 'AR100': 0.48480832305445526,\n",
       " 'ARsmall': 0.3524091085525531,\n",
       " 'ARmedium': 0.5269425530183419,\n",
       " 'ARlarge': 0.5834735318444996}"
      ]
     },
     "execution_count": 13,
     "metadata": {},
     "output_type": "execute_result"
    }
   ],
   "source": [
    "# Object Detection Metrics\n",
    "gts = text2bb(results_path + \"/gt/val/\", BBType.GROUND_TRUTH, BBFormat.XYX2Y2)\n",
    "dts = text2bb(results_path + \"/dt/val/\", BBType.DETECTED, BBFormat.XYX2Y2)\n",
    "\n",
    "result = get_coco_summary(gts, dts)\n",
    "result"
   ]
  },
  {
   "cell_type": "code",
   "execution_count": 14,
   "metadata": {},
   "outputs": [
    {
     "name": "stdout",
     "output_type": "stream",
     "text": [
      "0 AP = 86.49%\n",
      "1 AP = 86.78%\n",
      "2 AP = 71.03%\n",
      "3 AP = 74.95%\n",
      "4 AP = 71.41%\n",
      "5 AP = 36.43%\n",
      "mAP = 71.18%\n",
      "All:  (gt:1535, dt:1466, tp:1182, fp:284, msp: 80.63%, msr: 77.00%)\n",
      "\n"
     ]
    }
   ],
   "source": [
    "#mAP Calculator\n",
    "map.calc_map(results_path + \"/gt/val/\", \n",
    "             results_path + \"/dt/val/\", \n",
    "             results_path + \"/map_out_cuts/val/\",\n",
    "             0.5)"
   ]
  },
  {
   "cell_type": "markdown",
   "metadata": {},
   "source": [
    "### test"
   ]
  },
  {
   "cell_type": "code",
   "execution_count": 15,
   "metadata": {
    "scrolled": true
   },
   "outputs": [
    {
     "data": {
      "text/plain": [
       "{'AP': 0.4520742463258705,\n",
       " 'AP50': 0.7611921118603172,\n",
       " 'AP75': 0.4661569380796422,\n",
       " 'APsmall': 0.22449849338653896,\n",
       " 'APmedium': 0.5009420323884173,\n",
       " 'APlarge': 0.7166664266677294,\n",
       " 'AR1': 0.4958966641167387,\n",
       " 'AR10': 0.526650505250878,\n",
       " 'AR100': 0.526650505250878,\n",
       " 'ARsmall': 0.315482180701972,\n",
       " 'ARmedium': 0.5748504740008376,\n",
       " 'ARlarge': 0.7362073112073112}"
      ]
     },
     "execution_count": 15,
     "metadata": {},
     "output_type": "execute_result"
    }
   ],
   "source": [
    "# Object Detection Metrics\n",
    "gts = text2bb(results_path + \"/gt/test/\", BBType.GROUND_TRUTH, BBFormat.XYX2Y2)\n",
    "dts = text2bb(results_path + \"/dt/test/\", BBType.DETECTED, BBFormat.XYX2Y2)\n",
    "\n",
    "result = get_coco_summary(gts, dts)\n",
    "result"
   ]
  },
  {
   "cell_type": "code",
   "execution_count": 16,
   "metadata": {},
   "outputs": [
    {
     "name": "stdout",
     "output_type": "stream",
     "text": [
      "0 AP = 77.59%\n",
      "1 AP = 86.14%\n",
      "2 AP = 74.13%\n",
      "3 AP = 70.94%\n",
      "4 AP = 85.46%\n",
      "5 AP = 65.71%\n",
      "mAP = 76.66%\n",
      "All:  (gt:861, dt:862, tp:711, fp:151, msp: 82.48%, msr: 82.58%)\n",
      "\n"
     ]
    }
   ],
   "source": [
    "#mAP Calculator\n",
    "map.calc_map(results_path + \"/gt/test/\", \n",
    "             results_path + \"/dt/test/\", \n",
    "             results_path + \"/map_out_cuts/test/\",\n",
    "             0.5)"
   ]
  },
  {
   "cell_type": "markdown",
   "metadata": {},
   "source": [
    "### valtest"
   ]
  },
  {
   "cell_type": "code",
   "execution_count": 17,
   "metadata": {
    "scrolled": true
   },
   "outputs": [
    {
     "data": {
      "text/plain": [
       "{'AP': 0.42396050713793015,\n",
       " 'AP50': 0.7243796069881961,\n",
       " 'AP75': 0.44032541871846576,\n",
       " 'APsmall': 0.24978193779881805,\n",
       " 'APmedium': 0.4706077637156427,\n",
       " 'APlarge': 0.6100985616851412,\n",
       " 'AR1': 0.47564438775705553,\n",
       " 'AR10': 0.49976433689916594,\n",
       " 'AR100': 0.49976433689916594,\n",
       " 'ARsmall': 0.34584840686643165,\n",
       " 'ARmedium': 0.5477795367678341,\n",
       " 'ARlarge': 0.6448686005331117}"
      ]
     },
     "execution_count": 17,
     "metadata": {},
     "output_type": "execute_result"
    }
   ],
   "source": [
    "# Object Detection Metrics\n",
    "gts = text2bb(results_path + \"/gt/valtest/\", BBType.GROUND_TRUTH, BBFormat.XYX2Y2)\n",
    "dts = text2bb(results_path + \"/dt/valtest/\", BBType.DETECTED, BBFormat.XYX2Y2)\n",
    "\n",
    "result = get_coco_summary(gts, dts)\n",
    "result"
   ]
  },
  {
   "cell_type": "code",
   "execution_count": 18,
   "metadata": {},
   "outputs": [
    {
     "name": "stdout",
     "output_type": "stream",
     "text": [
      "0 AP = 82.72%\n",
      "1 AP = 86.34%\n",
      "2 AP = 71.86%\n",
      "3 AP = 73.43%\n",
      "4 AP = 76.50%\n",
      "5 AP = 47.46%\n",
      "mAP = 73.05%\n",
      "All:  (gt:2396, dt:2328, tp:1893, fp:435, msp: 81.31%, msr: 79.01%)\n",
      "\n"
     ]
    }
   ],
   "source": [
    "#mAP Calculator\n",
    "map.calc_map(results_path + \"/gt/valtest/\", \n",
    "             results_path + \"/dt/valtest/\", \n",
    "             results_path + \"/map_out_cuts/valtest/\",\n",
    "             0.5)"
   ]
  },
  {
   "cell_type": "markdown",
   "metadata": {},
   "source": [
    "## Draw bbox"
   ]
  },
  {
   "cell_type": "code",
   "execution_count": 4,
   "metadata": {},
   "outputs": [],
   "source": [
    "metric_utils.comparebb(results_path + \"/gt/val/\", gt_dir + \"/val/images/\", results_path + \"/bb/val_2/\", ['2'], \"gt\")"
   ]
  },
  {
   "cell_type": "code",
   "execution_count": 6,
   "metadata": {},
   "outputs": [],
   "source": [
    "metric_utils.comparebb(results_path + \"/dt/val/\", gt_dir + \"/val/images/\", results_path + \"/bb/val_2/\", ['2'], \"dt\")"
   ]
  },
  {
   "cell_type": "code",
   "execution_count": 93,
   "metadata": {},
   "outputs": [],
   "source": [
    "metric_utils.comparebb(results_path + \"/gt/test/\", gt_dir + \"/test/images/\", results_path + \"/bb/test_2/\", ['2'], \"gt\")"
   ]
  },
  {
   "cell_type": "code",
   "execution_count": 94,
   "metadata": {},
   "outputs": [],
   "source": [
    "metric_utils.comparebb(results_path + \"/dt/test/\", gt_dir + \"/test/images/\", results_path + \"/bb/test_2/\", ['2'], \"dt\")"
   ]
  },
  {
   "cell_type": "code",
   "execution_count": 5,
   "metadata": {},
   "outputs": [],
   "source": [
    "metric_utils.comparebb(results_path + \"/gt/valtest/\", gt_dir + \"/valtest/images/\", results_path + \"/bb/valtest_2/\", ['2'], \"gt\")"
   ]
  },
  {
   "cell_type": "code",
   "execution_count": 5,
   "metadata": {},
   "outputs": [],
   "source": [
    "metric_utils.comparebb(results_path + \"/dt/valtest/\", gt_dir + \"/valtest/images/\", results_path + \"/bb/valtest_2/\", ['2'], \"dt\")"
   ]
  },
  {
   "cell_type": "markdown",
   "metadata": {},
   "source": [
    "# Merged"
   ]
  },
  {
   "cell_type": "code",
   "execution_count": 19,
   "metadata": {},
   "outputs": [],
   "source": [
    "gt_dir = \"D:/Workarea/TSD/_data/102050px/yolo_pytorch\" #no balancing in val and text sets\n",
    "\n",
    "with open(meta_dir + '/idd_ts_anot_details_v12.csv', newline='') as ts_file:\n",
    "    next(ts_file)\n",
    "    ts_signs = list(csv.reader(ts_file))\n",
    "\n",
    "#print(ts_signs[:5])\n",
    "\n",
    "image_sizes = pd.DataFrame(ts_signs)\n",
    "image_sizes = image_sizes[[0,10]]\n",
    "image_sizes.columns = ['image_id', 'image_size']"
   ]
  },
  {
   "cell_type": "markdown",
   "metadata": {},
   "source": [
    "## Detections"
   ]
  },
  {
   "cell_type": "code",
   "execution_count": 20,
   "metadata": {},
   "outputs": [],
   "source": [
    "#Convert val detections\n",
    "metric_utils.yolo2text_dt(results_path + \"/val/labels_merged\", results_path + \"/dt_merged/val\", 0.25, None, image_sizes)"
   ]
  },
  {
   "cell_type": "code",
   "execution_count": 21,
   "metadata": {},
   "outputs": [],
   "source": [
    "#Convert val detections\n",
    "metric_utils.yolo2text_dt(results_path + \"/test/labels_merged\", results_path + \"/dt_merged/test\", 0.25, None, image_sizes)"
   ]
  },
  {
   "cell_type": "code",
   "execution_count": 22,
   "metadata": {},
   "outputs": [],
   "source": [
    "#Convert val detections\n",
    "metric_utils.yolo2text_dt(results_path + \"/valtest/labels_merged\", results_path + \"/dt_merged/valtest\", 0.25, None, image_sizes)"
   ]
  },
  {
   "cell_type": "markdown",
   "metadata": {},
   "source": [
    "## Ground Truths"
   ]
  },
  {
   "cell_type": "code",
   "execution_count": 23,
   "metadata": {},
   "outputs": [],
   "source": [
    "#Convert val gt\n",
    "metric_utils.yolo2text_gt(gt_dir + \"/val/labels\", results_path + \"/gt_merged/val/\", None, image_sizes)"
   ]
  },
  {
   "cell_type": "code",
   "execution_count": 24,
   "metadata": {},
   "outputs": [],
   "source": [
    "#Convert test gt\n",
    "metric_utils.yolo2text_gt(gt_dir + \"/test/labels\", results_path + \"/gt_merged/test/\", None, image_sizes)"
   ]
  },
  {
   "cell_type": "code",
   "execution_count": 25,
   "metadata": {},
   "outputs": [],
   "source": [
    "#Convert valtest gt\n",
    "metric_utils.yolo2text_gt(gt_dir + \"/valtest/labels\", results_path + \"/gt_merged/valtest/\", None, image_sizes)"
   ]
  },
  {
   "cell_type": "markdown",
   "metadata": {},
   "source": [
    "## Missing anot generator"
   ]
  },
  {
   "cell_type": "code",
   "execution_count": 26,
   "metadata": {},
   "outputs": [],
   "source": [
    "#Sync missing val files instances to dt\n",
    "metric_utils.missing_file_gen(results_path + \"/gt_merged/val/\", results_path + \"/dt_merged/val/\", \"txt\")"
   ]
  },
  {
   "cell_type": "code",
   "execution_count": 27,
   "metadata": {},
   "outputs": [],
   "source": [
    "#Sync missing test files instances to dt\n",
    "metric_utils.missing_file_gen(results_path + \"/gt_merged/test/\", results_path + \"/dt_merged/test/\", \"txt\")"
   ]
  },
  {
   "cell_type": "code",
   "execution_count": 28,
   "metadata": {},
   "outputs": [],
   "source": [
    "#Sync missing valtest files instances to dt\n",
    "metric_utils.missing_file_gen(results_path + \"/gt_merged/valtest/\", results_path + \"/dt_merged/valtest/\", \"txt\")"
   ]
  },
  {
   "cell_type": "markdown",
   "metadata": {},
   "source": [
    "## MAP"
   ]
  },
  {
   "cell_type": "markdown",
   "metadata": {},
   "source": [
    "### val"
   ]
  },
  {
   "cell_type": "code",
   "execution_count": 29,
   "metadata": {
    "scrolled": true
   },
   "outputs": [
    {
     "data": {
      "text/plain": [
       "{'AP': 0.421104153125826,\n",
       " 'AP50': 0.7445363849677252,\n",
       " 'AP75': 0.44342255049479196,\n",
       " 'APsmall': 0.30962399821152087,\n",
       " 'APmedium': 0.44966806636117973,\n",
       " 'APlarge': 0.5410781545722414,\n",
       " 'AR1': 0.4602404105312612,\n",
       " 'AR10': 0.49850252834340963,\n",
       " 'AR100': 0.49850252834340963,\n",
       " 'ARsmall': 0.4159749885656587,\n",
       " 'ARmedium': 0.5231753349988645,\n",
       " 'ARlarge': 0.5757772904483431}"
      ]
     },
     "execution_count": 29,
     "metadata": {},
     "output_type": "execute_result"
    }
   ],
   "source": [
    "# Object Detection Metrics\n",
    "gts = text2bb(results_path + \"/gt_merged/val/\", BBType.GROUND_TRUTH, BBFormat.XYX2Y2)\n",
    "dts = text2bb(results_path + \"/dt_merged/val/\", BBType.DETECTED, BBFormat.XYX2Y2)\n",
    "\n",
    "result = get_coco_summary(gts, dts)\n",
    "result"
   ]
  },
  {
   "cell_type": "code",
   "execution_count": 30,
   "metadata": {},
   "outputs": [
    {
     "name": "stdout",
     "output_type": "stream",
     "text": [
      "0 AP = 90.63%\n",
      "1 AP = 88.33%\n",
      "2 AP = 69.53%\n",
      "3 AP = 88.90%\n",
      "4 AP = 75.37%\n",
      "5 AP = 38.41%\n",
      "mAP = 75.19%\n",
      "All:  (gt:818, dt:880, tp:660, fp:220, msp: 75.00%, msr: 80.68%)\n",
      "\n"
     ]
    }
   ],
   "source": [
    "#mAP Calculator\n",
    "map.calc_map(results_path + \"/gt_merged/val/\", \n",
    "             results_path + \"/dt_merged/val/\", \n",
    "             results_path + \"/map_out_merged/val/\",\n",
    "             0.5)"
   ]
  },
  {
   "cell_type": "markdown",
   "metadata": {},
   "source": [
    "### test"
   ]
  },
  {
   "cell_type": "code",
   "execution_count": 31,
   "metadata": {
    "scrolled": true
   },
   "outputs": [
    {
     "data": {
      "text/plain": [
       "{'AP': 0.47997275580788223,\n",
       " 'AP50': 0.8187354565353324,\n",
       " 'AP75': 0.4730630084001631,\n",
       " 'APsmall': 0.27496918530239134,\n",
       " 'APmedium': 0.4930329839586399,\n",
       " 'APlarge': 0.6943763373590105,\n",
       " 'AR1': 0.5145753415016289,\n",
       " 'AR10': 0.5531396066138814,\n",
       " 'AR100': 0.5531396066138814,\n",
       " 'ARsmall': 0.3957773386034255,\n",
       " 'ARmedium': 0.5648655662892116,\n",
       " 'ARlarge': 0.729141229141229}"
      ]
     },
     "execution_count": 31,
     "metadata": {},
     "output_type": "execute_result"
    }
   ],
   "source": [
    "# Object Detection Metrics\n",
    "gts = text2bb(results_path + \"/gt_merged/test/\", BBType.GROUND_TRUTH, BBFormat.XYX2Y2)\n",
    "dts = text2bb(results_path + \"/dt_merged/test/\", BBType.DETECTED, BBFormat.XYX2Y2)\n",
    "\n",
    "result = get_coco_summary(gts, dts)\n",
    "result"
   ]
  },
  {
   "cell_type": "code",
   "execution_count": 32,
   "metadata": {},
   "outputs": [
    {
     "name": "stdout",
     "output_type": "stream",
     "text": [
      "0 AP = 85.67%\n",
      "1 AP = 87.69%\n",
      "2 AP = 71.45%\n",
      "3 AP = 87.29%\n",
      "4 AP = 93.93%\n",
      "5 AP = 68.46%\n",
      "mAP = 82.41%\n",
      "All:  (gt:473, dt:522, tp:410, fp:112, msp: 78.54%, msr: 86.68%)\n",
      "\n"
     ]
    }
   ],
   "source": [
    "#mAP Calculator\n",
    "map.calc_map(results_path + \"/gt_merged/test/\", \n",
    "             results_path + \"/dt_merged/test/\", \n",
    "             results_path + \"/map_out_merged/test/\",\n",
    "             0.5)"
   ]
  },
  {
   "cell_type": "markdown",
   "metadata": {},
   "source": [
    "### valtest"
   ]
  },
  {
   "cell_type": "code",
   "execution_count": 33,
   "metadata": {
    "scrolled": true
   },
   "outputs": [
    {
     "data": {
      "text/plain": [
       "{'AP': 0.43853379275410836,\n",
       " 'AP50': 0.7718947265971138,\n",
       " 'AP75': 0.44503857514505385,\n",
       " 'APsmall': 0.2876923358271318,\n",
       " 'APmedium': 0.46201967768044405,\n",
       " 'APlarge': 0.5976786947620172,\n",
       " 'AR1': 0.4802938019215662,\n",
       " 'AR10': 0.518923920262391,\n",
       " 'AR100': 0.518923920262391,\n",
       " 'ARsmall': 0.4131365801248345,\n",
       " 'ARmedium': 0.5405023549609518,\n",
       " 'ARlarge': 0.6386819375250748}"
      ]
     },
     "execution_count": 33,
     "metadata": {},
     "output_type": "execute_result"
    }
   ],
   "source": [
    "# Object Detection Metrics\n",
    "gts = text2bb(results_path + \"/gt_merged/valtest/\", BBType.GROUND_TRUTH, BBFormat.XYX2Y2)\n",
    "dts = text2bb(results_path + \"/dt_merged/valtest/\", BBType.DETECTED, BBFormat.XYX2Y2)\n",
    "\n",
    "result = get_coco_summary(gts, dts)\n",
    "result"
   ]
  },
  {
   "cell_type": "code",
   "execution_count": 34,
   "metadata": {},
   "outputs": [
    {
     "name": "stdout",
     "output_type": "stream",
     "text": [
      "0 AP = 88.57%\n",
      "1 AP = 87.95%\n",
      "2 AP = 70.00%\n",
      "3 AP = 88.08%\n",
      "4 AP = 82.55%\n",
      "5 AP = 49.86%\n",
      "mAP = 77.83%\n",
      "All:  (gt:1291, dt:1402, tp:1070, fp:332, msp: 76.32%, msr: 82.88%)\n",
      "\n"
     ]
    }
   ],
   "source": [
    "#mAP Calculator\n",
    "map.calc_map(results_path + \"/gt_merged/valtest/\", \n",
    "             results_path + \"/dt_merged/valtest/\", \n",
    "             results_path + \"/map_out_merged/valtest/\",\n",
    "             0.5)"
   ]
  },
  {
   "cell_type": "markdown",
   "metadata": {},
   "source": [
    "## Draw bbox"
   ]
  },
  {
   "cell_type": "code",
   "execution_count": 5,
   "metadata": {},
   "outputs": [],
   "source": [
    "metric_utils.comparebb(results_path + \"/gt_merged/val/\", gt_dir + \"/val/images/\", \n",
    "                       results_path + \"/bb_merged/val_2/\", ['2'], \"gt\")"
   ]
  },
  {
   "cell_type": "code",
   "execution_count": 70,
   "metadata": {},
   "outputs": [],
   "source": [
    "metric_utils.comparebb(results_path + \"/dt_merged/val/\", gt_dir + \"/val/images/\", \n",
    "                       results_path + \"/bb_merged/val_0/\", ['0'], \"dt\")"
   ]
  },
  {
   "cell_type": "code",
   "execution_count": 72,
   "metadata": {},
   "outputs": [],
   "source": [
    "metric_utils.comparebb(results_path + \"/gt_merged/test/\", gt_dir + \"/test/images/\", \n",
    "                       results_path + \"/bb_merged/test_0/\", ['0'], \"gt\")"
   ]
  },
  {
   "cell_type": "code",
   "execution_count": 71,
   "metadata": {},
   "outputs": [],
   "source": [
    "metric_utils.comparebb(results_path + \"/dt_merged/test/\", gt_dir + \"/test/images/\", \n",
    "                       results_path + \"/bb_merged/test_0/\", ['0'], \"dt\")"
   ]
  },
  {
   "cell_type": "code",
   "execution_count": 66,
   "metadata": {},
   "outputs": [],
   "source": [
    "metric_utils.comparebb(results_path + \"/gt_merged/valtest/\", gt_dir + \"/valtest/images/\", \n",
    "                       results_path + \"/bb_merged/valtest_2/\", ['2'], \"gt\")"
   ]
  },
  {
   "cell_type": "code",
   "execution_count": 67,
   "metadata": {},
   "outputs": [],
   "source": [
    "metric_utils.comparebb(results_path + \"/dt_merged/valtest/\", gt_dir + \"/valtest/images/\", \n",
    "                       results_path + \"/bb_merged/valtest_2/\", ['2'], \"dt\")"
   ]
  },
  {
   "cell_type": "code",
   "execution_count": null,
   "metadata": {},
   "outputs": [],
   "source": []
  }
 ],
 "metadata": {
  "kernelspec": {
   "display_name": "Python 3",
   "language": "python",
   "name": "python3"
  },
  "language_info": {
   "codemirror_mode": {
    "name": "ipython",
    "version": 3
   },
   "file_extension": ".py",
   "mimetype": "text/x-python",
   "name": "python",
   "nbconvert_exporter": "python",
   "pygments_lexer": "ipython3",
   "version": "3.7.3"
  }
 },
 "nbformat": 4,
 "nbformat_minor": 4
}
