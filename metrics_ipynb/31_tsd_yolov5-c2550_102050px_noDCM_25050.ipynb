{
 "cells": [
  {
   "cell_type": "code",
   "execution_count": 1,
   "metadata": {},
   "outputs": [],
   "source": [
    "import pandas as pd\n",
    "import csv\n",
    "import os\n",
    "import cv2\n",
    "\n",
    "import json\n",
    "from math import isclose\n",
    "\n",
    "from object_detection_metrics.bounding_box import BBFormat, BBType, BoundingBox\n",
    "from object_detection_metrics.evaluators.coco_evaluator import get_coco_summary\n",
    "from object_detection_metrics.utils.converter import text2bb\n",
    "\n",
    "from map import map\n",
    "\n",
    "import metric_utils"
   ]
  },
  {
   "cell_type": "code",
   "execution_count": 2,
   "metadata": {},
   "outputs": [],
   "source": [
    "results_path = \"D:/Workarea/TSD/_results/final/31_yolov5-c2550_102050px_balanced_v12/00160\"\n",
    "meta_dir = \"D:/Workarea/TSD/_metadata\"\n",
    "gt_dir = \"D:/Workarea/TSD/_data/102050px_balanced/yolo_pytorch\""
   ]
  },
  {
   "cell_type": "code",
   "execution_count": 3,
   "metadata": {},
   "outputs": [
    {
     "data": {
      "text/html": [
       "<div>\n",
       "<style scoped>\n",
       "    .dataframe tbody tr th:only-of-type {\n",
       "        vertical-align: middle;\n",
       "    }\n",
       "\n",
       "    .dataframe tbody tr th {\n",
       "        vertical-align: top;\n",
       "    }\n",
       "\n",
       "    .dataframe thead th {\n",
       "        text-align: right;\n",
       "    }\n",
       "</style>\n",
       "<table border=\"1\" class=\"dataframe\">\n",
       "  <thead>\n",
       "    <tr style=\"text-align: right;\">\n",
       "      <th></th>\n",
       "      <th>class_id</th>\n",
       "      <th>class_name</th>\n",
       "      <th>class_desc</th>\n",
       "    </tr>\n",
       "  </thead>\n",
       "  <tbody>\n",
       "    <tr>\n",
       "      <th>0</th>\n",
       "      <td>0</td>\n",
       "      <td>mandatory</td>\n",
       "      <td>NaN</td>\n",
       "    </tr>\n",
       "    <tr>\n",
       "      <th>1</th>\n",
       "      <td>1</td>\n",
       "      <td>warning</td>\n",
       "      <td>NaN</td>\n",
       "    </tr>\n",
       "    <tr>\n",
       "      <th>2</th>\n",
       "      <td>2</td>\n",
       "      <td>informatory</td>\n",
       "      <td>NaN</td>\n",
       "    </tr>\n",
       "    <tr>\n",
       "      <th>3</th>\n",
       "      <td>3</td>\n",
       "      <td>milestone</td>\n",
       "      <td>NaN</td>\n",
       "    </tr>\n",
       "    <tr>\n",
       "      <th>4</th>\n",
       "      <td>4</td>\n",
       "      <td>barrier-hazard</td>\n",
       "      <td>NaN</td>\n",
       "    </tr>\n",
       "    <tr>\n",
       "      <th>5</th>\n",
       "      <td>5</td>\n",
       "      <td>other</td>\n",
       "      <td>NaN</td>\n",
       "    </tr>\n",
       "  </tbody>\n",
       "</table>\n",
       "</div>"
      ],
      "text/plain": [
       "   class_id      class_name  class_desc\n",
       "0         0       mandatory         NaN\n",
       "1         1         warning         NaN\n",
       "2         2     informatory         NaN\n",
       "3         3       milestone         NaN\n",
       "4         4  barrier-hazard         NaN\n",
       "5         5           other         NaN"
      ]
     },
     "execution_count": 3,
     "metadata": {},
     "output_type": "execute_result"
    }
   ],
   "source": [
    "ts_class = pd.read_csv(meta_dir + '/ts_class.csv', sep=',', encoding='utf-8')\n",
    "ts_class"
   ]
  },
  {
   "cell_type": "markdown",
   "metadata": {},
   "source": [
    "# Full Image"
   ]
  },
  {
   "cell_type": "markdown",
   "metadata": {},
   "source": [
    "## Detections"
   ]
  },
  {
   "cell_type": "code",
   "execution_count": 4,
   "metadata": {},
   "outputs": [],
   "source": [
    "#Convert val detections\n",
    "metric_utils.yolo2text_dt(results_path + \"/val/labels\", results_path + \"/dt/val\", 0.25)"
   ]
  },
  {
   "cell_type": "code",
   "execution_count": 5,
   "metadata": {},
   "outputs": [],
   "source": [
    "#Convert val detections\n",
    "metric_utils.yolo2text_dt(results_path + \"/test/labels\", results_path + \"/dt/test\", 0.25)"
   ]
  },
  {
   "cell_type": "code",
   "execution_count": 6,
   "metadata": {},
   "outputs": [],
   "source": [
    "#Convert val detections\n",
    "metric_utils.yolo2text_dt(results_path + \"/valtest/labels\", results_path + \"/dt/valtest\", 0.25)"
   ]
  },
  {
   "cell_type": "markdown",
   "metadata": {},
   "source": [
    "## Ground Truths"
   ]
  },
  {
   "cell_type": "code",
   "execution_count": 7,
   "metadata": {},
   "outputs": [],
   "source": [
    "#Convert val gt\n",
    "metric_utils.yolo2text_gt(gt_dir + \"/val/labels\", results_path + \"/gt/val/\")"
   ]
  },
  {
   "cell_type": "code",
   "execution_count": 8,
   "metadata": {},
   "outputs": [],
   "source": [
    "#Convert test gt\n",
    "metric_utils.yolo2text_gt(gt_dir + \"/test/labels\", results_path + \"/gt/test/\")"
   ]
  },
  {
   "cell_type": "code",
   "execution_count": 9,
   "metadata": {},
   "outputs": [],
   "source": [
    "#Convert valtest gt\n",
    "metric_utils.yolo2text_gt(gt_dir + \"/valtest/labels\", results_path + \"/gt/valtest/\")"
   ]
  },
  {
   "cell_type": "markdown",
   "metadata": {},
   "source": [
    "## Missing anot generator"
   ]
  },
  {
   "cell_type": "code",
   "execution_count": 10,
   "metadata": {},
   "outputs": [],
   "source": [
    "#Sync missing val files instances to dt\n",
    "metric_utils.missing_file_gen(results_path + \"/gt/val/\", results_path + \"/dt/val/\", \"txt\")"
   ]
  },
  {
   "cell_type": "code",
   "execution_count": 11,
   "metadata": {},
   "outputs": [],
   "source": [
    "#Sync missing test files instances to dt\n",
    "metric_utils.missing_file_gen(results_path + \"/gt/test/\", results_path + \"/dt/test/\", \"txt\")"
   ]
  },
  {
   "cell_type": "code",
   "execution_count": 12,
   "metadata": {},
   "outputs": [],
   "source": [
    "#Sync missing valtest files instances to dt\n",
    "metric_utils.missing_file_gen(results_path + \"/gt/valtest/\", results_path + \"/dt/valtest/\", \"txt\")"
   ]
  },
  {
   "cell_type": "markdown",
   "metadata": {},
   "source": [
    "## MAP"
   ]
  },
  {
   "cell_type": "markdown",
   "metadata": {},
   "source": [
    "### val"
   ]
  },
  {
   "cell_type": "code",
   "execution_count": 13,
   "metadata": {
    "scrolled": true
   },
   "outputs": [
    {
     "data": {
      "text/plain": [
       "{'AP': 0.306497900320623,\n",
       " 'AP50': 0.5496469483723493,\n",
       " 'AP75': 0.3022624668019683,\n",
       " 'APsmall': 0.2508345391300574,\n",
       " 'APmedium': 0.45056878562504793,\n",
       " 'APlarge': 0.6117739273927392,\n",
       " 'AR1': 0.3407692963910834,\n",
       " 'AR10': 0.35979497082205153,\n",
       " 'AR100': 0.35979497082205153,\n",
       " 'ARsmall': 0.3119029240363066,\n",
       " 'ARmedium': 0.4950604694170871,\n",
       " 'ARlarge': 0.635}"
      ]
     },
     "execution_count": 13,
     "metadata": {},
     "output_type": "execute_result"
    }
   ],
   "source": [
    "# Object Detection Metrics\n",
    "gts = text2bb(results_path + \"/gt/val/\", BBType.GROUND_TRUTH, BBFormat.XYX2Y2)\n",
    "dts = text2bb(results_path + \"/dt/val/\", BBType.DETECTED, BBFormat.XYX2Y2)\n",
    "\n",
    "result = get_coco_summary(gts, dts)\n",
    "result"
   ]
  },
  {
   "cell_type": "code",
   "execution_count": 14,
   "metadata": {},
   "outputs": [
    {
     "name": "stdout",
     "output_type": "stream",
     "text": [
      "0 AP = 68.45%\n",
      "1 AP = 74.45%\n",
      "2 AP = 48.89%\n",
      "3 AP = 65.72%\n",
      "4 AP = 54.60%\n",
      "5 AP = 23.42%\n",
      "mAP = 55.92%\n",
      "All:  (gt:818, dt:693, tp:494, fp:199, msp: 71.28%, msr: 60.39%)\n",
      "\n"
     ]
    }
   ],
   "source": [
    "#mAP Calculator\n",
    "map.calc_map(results_path + \"/gt/val/\", \n",
    "             results_path + \"/dt/val/\", \n",
    "             results_path + \"/map_out_cuts/val/\",\n",
    "             0.5)"
   ]
  },
  {
   "cell_type": "markdown",
   "metadata": {},
   "source": [
    "### test"
   ]
  },
  {
   "cell_type": "code",
   "execution_count": 15,
   "metadata": {
    "scrolled": true
   },
   "outputs": [
    {
     "data": {
      "text/plain": [
       "{'AP': 0.3438744847774807,\n",
       " 'AP50': 0.5714723296015017,\n",
       " 'AP75': 0.3500784277585085,\n",
       " 'APsmall': 0.23581344863628376,\n",
       " 'APmedium': 0.5361621316042668,\n",
       " 'APlarge': 0.5049504950495048,\n",
       " 'AR1': 0.3732939933763196,\n",
       " 'AR10': 0.3961526672102257,\n",
       " 'AR100': 0.3961526672102257,\n",
       " 'ARsmall': 0.29775593102073367,\n",
       " 'ARmedium': 0.5732767006702935,\n",
       " 'ARlarge': 0.5}"
      ]
     },
     "execution_count": 15,
     "metadata": {},
     "output_type": "execute_result"
    }
   ],
   "source": [
    "# Object Detection Metrics\n",
    "gts = text2bb(results_path + \"/gt/test/\", BBType.GROUND_TRUTH, BBFormat.XYX2Y2)\n",
    "dts = text2bb(results_path + \"/dt/test/\", BBType.DETECTED, BBFormat.XYX2Y2)\n",
    "\n",
    "result = get_coco_summary(gts, dts)\n",
    "result"
   ]
  },
  {
   "cell_type": "code",
   "execution_count": 16,
   "metadata": {},
   "outputs": [
    {
     "name": "stdout",
     "output_type": "stream",
     "text": [
      "0 AP = 56.96%\n",
      "1 AP = 64.12%\n",
      "2 AP = 44.57%\n",
      "3 AP = 58.50%\n",
      "4 AP = 78.73%\n",
      "5 AP = 40.93%\n",
      "mAP = 57.30%\n",
      "All:  (gt:473, dt:392, tp:301, fp:91, msp: 76.79%, msr: 63.64%)\n",
      "\n"
     ]
    }
   ],
   "source": [
    "#mAP Calculator\n",
    "map.calc_map(results_path + \"/gt/test/\", \n",
    "             results_path + \"/dt/test/\", \n",
    "             results_path + \"/map_out_cuts/test/\",\n",
    "             0.5)"
   ]
  },
  {
   "cell_type": "markdown",
   "metadata": {},
   "source": [
    "### valtest"
   ]
  },
  {
   "cell_type": "code",
   "execution_count": 17,
   "metadata": {
    "scrolled": true
   },
   "outputs": [
    {
     "data": {
      "text/plain": [
       "{'AP': 0.3165840176201312,\n",
       " 'AP50': 0.5577810913149853,\n",
       " 'AP75': 0.3118596659723733,\n",
       " 'APsmall': 0.24609397896490684,\n",
       " 'APmedium': 0.4854935811351325,\n",
       " 'APlarge': 0.6188036303630363,\n",
       " 'AR1': 0.35203845423597285,\n",
       " 'AR10': 0.3727306919302661,\n",
       " 'AR100': 0.3727306919302661,\n",
       " 'ARsmall': 0.30928788270470947,\n",
       " 'ARmedium': 0.5333252840486017,\n",
       " 'ARlarge': 0.6443181818181818}"
      ]
     },
     "execution_count": 17,
     "metadata": {},
     "output_type": "execute_result"
    }
   ],
   "source": [
    "# Object Detection Metrics\n",
    "gts = text2bb(results_path + \"/gt/valtest/\", BBType.GROUND_TRUTH, BBFormat.XYX2Y2)\n",
    "dts = text2bb(results_path + \"/dt/valtest/\", BBType.DETECTED, BBFormat.XYX2Y2)\n",
    "\n",
    "result = get_coco_summary(gts, dts)\n",
    "result"
   ]
  },
  {
   "cell_type": "code",
   "execution_count": 18,
   "metadata": {},
   "outputs": [
    {
     "name": "stdout",
     "output_type": "stream",
     "text": [
      "0 AP = 63.96%\n",
      "1 AP = 70.19%\n",
      "2 AP = 47.43%\n",
      "3 AP = 63.61%\n",
      "4 AP = 64.21%\n",
      "5 AP = 29.93%\n",
      "mAP = 56.55%\n",
      "All:  (gt:1291, dt:1085, tp:795, fp:290, msp: 73.27%, msr: 61.58%)\n",
      "\n"
     ]
    }
   ],
   "source": [
    "#mAP Calculator\n",
    "map.calc_map(results_path + \"/gt/valtest/\", \n",
    "             results_path + \"/dt/valtest/\", \n",
    "             results_path + \"/map_out_cuts/valtest/\",\n",
    "             0.5)"
   ]
  },
  {
   "cell_type": "markdown",
   "metadata": {},
   "source": [
    "## Draw bbox"
   ]
  },
  {
   "cell_type": "code",
   "execution_count": 4,
   "metadata": {},
   "outputs": [],
   "source": [
    "metric_utils.comparebb(results_path + \"/gt/val/\", gt_dir + \"/val/images/\", results_path + \"/bb/val_2/\", ['2'], \"gt\")"
   ]
  },
  {
   "cell_type": "code",
   "execution_count": 6,
   "metadata": {},
   "outputs": [],
   "source": [
    "metric_utils.comparebb(results_path + \"/dt/val/\", gt_dir + \"/val/images/\", results_path + \"/bb/val_2/\", ['2'], \"dt\")"
   ]
  },
  {
   "cell_type": "code",
   "execution_count": 93,
   "metadata": {},
   "outputs": [],
   "source": [
    "metric_utils.comparebb(results_path + \"/gt/test/\", gt_dir + \"/test/images/\", results_path + \"/bb/test_2/\", ['2'], \"gt\")"
   ]
  },
  {
   "cell_type": "code",
   "execution_count": 94,
   "metadata": {},
   "outputs": [],
   "source": [
    "metric_utils.comparebb(results_path + \"/dt/test/\", gt_dir + \"/test/images/\", results_path + \"/bb/test_2/\", ['2'], \"dt\")"
   ]
  },
  {
   "cell_type": "code",
   "execution_count": 5,
   "metadata": {},
   "outputs": [],
   "source": [
    "metric_utils.comparebb(results_path + \"/gt/valtest/\", gt_dir + \"/valtest/images/\", results_path + \"/bb/valtest_2/\", ['2'], \"gt\")"
   ]
  },
  {
   "cell_type": "code",
   "execution_count": 5,
   "metadata": {},
   "outputs": [],
   "source": [
    "metric_utils.comparebb(results_path + \"/dt/valtest/\", gt_dir + \"/valtest/images/\", results_path + \"/bb/valtest_2/\", ['2'], \"dt\")"
   ]
  },
  {
   "cell_type": "code",
   "execution_count": null,
   "metadata": {},
   "outputs": [],
   "source": []
  }
 ],
 "metadata": {
  "kernelspec": {
   "display_name": "Python 3",
   "language": "python",
   "name": "python3"
  },
  "language_info": {
   "codemirror_mode": {
    "name": "ipython",
    "version": 3
   },
   "file_extension": ".py",
   "mimetype": "text/x-python",
   "name": "python",
   "nbconvert_exporter": "python",
   "pygments_lexer": "ipython3",
   "version": "3.7.3"
  }
 },
 "nbformat": 4,
 "nbformat_minor": 4
}
