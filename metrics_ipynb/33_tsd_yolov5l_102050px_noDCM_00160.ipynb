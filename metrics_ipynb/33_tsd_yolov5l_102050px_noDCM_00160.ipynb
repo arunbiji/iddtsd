{
 "cells": [
  {
   "cell_type": "code",
   "execution_count": 3,
   "metadata": {},
   "outputs": [],
   "source": [
    "import pandas as pd\n",
    "import csv\n",
    "import os\n",
    "import cv2\n",
    "\n",
    "import json\n",
    "from math import isclose\n",
    "\n",
    "from object_detection_metrics.bounding_box import BBFormat, BBType, BoundingBox\n",
    "from object_detection_metrics.evaluators.coco_evaluator import get_coco_summary\n",
    "from object_detection_metrics.utils.converter import text2bb\n",
    "\n",
    "from map import map\n",
    "\n",
    "import metric_utils"
   ]
  },
  {
   "cell_type": "code",
   "execution_count": 4,
   "metadata": {},
   "outputs": [],
   "source": [
    "results_path = \"D:/Workarea/TSD/_results/final/33_yolov5l_102050px_balanced_v_/00160\"\n",
    "meta_dir = \"D:/Workarea/TSD/_metadata\"\n",
    "gt_dir = \"D:/Workarea/TSD/_data/102050px_balanced/yolo_pytorch\""
   ]
  },
  {
   "cell_type": "code",
   "execution_count": 5,
   "metadata": {},
   "outputs": [
    {
     "data": {
      "text/html": [
       "<div>\n",
       "<style scoped>\n",
       "    .dataframe tbody tr th:only-of-type {\n",
       "        vertical-align: middle;\n",
       "    }\n",
       "\n",
       "    .dataframe tbody tr th {\n",
       "        vertical-align: top;\n",
       "    }\n",
       "\n",
       "    .dataframe thead th {\n",
       "        text-align: right;\n",
       "    }\n",
       "</style>\n",
       "<table border=\"1\" class=\"dataframe\">\n",
       "  <thead>\n",
       "    <tr style=\"text-align: right;\">\n",
       "      <th></th>\n",
       "      <th>class_id</th>\n",
       "      <th>class_name</th>\n",
       "      <th>class_desc</th>\n",
       "    </tr>\n",
       "  </thead>\n",
       "  <tbody>\n",
       "    <tr>\n",
       "      <th>0</th>\n",
       "      <td>0</td>\n",
       "      <td>mandatory</td>\n",
       "      <td>NaN</td>\n",
       "    </tr>\n",
       "    <tr>\n",
       "      <th>1</th>\n",
       "      <td>1</td>\n",
       "      <td>warning</td>\n",
       "      <td>NaN</td>\n",
       "    </tr>\n",
       "    <tr>\n",
       "      <th>2</th>\n",
       "      <td>2</td>\n",
       "      <td>informatory</td>\n",
       "      <td>NaN</td>\n",
       "    </tr>\n",
       "    <tr>\n",
       "      <th>3</th>\n",
       "      <td>3</td>\n",
       "      <td>milestone</td>\n",
       "      <td>NaN</td>\n",
       "    </tr>\n",
       "    <tr>\n",
       "      <th>4</th>\n",
       "      <td>4</td>\n",
       "      <td>barrier-hazard</td>\n",
       "      <td>NaN</td>\n",
       "    </tr>\n",
       "    <tr>\n",
       "      <th>5</th>\n",
       "      <td>5</td>\n",
       "      <td>other</td>\n",
       "      <td>NaN</td>\n",
       "    </tr>\n",
       "  </tbody>\n",
       "</table>\n",
       "</div>"
      ],
      "text/plain": [
       "   class_id      class_name  class_desc\n",
       "0         0       mandatory         NaN\n",
       "1         1         warning         NaN\n",
       "2         2     informatory         NaN\n",
       "3         3       milestone         NaN\n",
       "4         4  barrier-hazard         NaN\n",
       "5         5           other         NaN"
      ]
     },
     "execution_count": 5,
     "metadata": {},
     "output_type": "execute_result"
    }
   ],
   "source": [
    "ts_class = pd.read_csv(meta_dir + '/ts_class.csv', sep=',', encoding='utf-8')\n",
    "ts_class"
   ]
  },
  {
   "cell_type": "markdown",
   "metadata": {},
   "source": [
    "# Full Image"
   ]
  },
  {
   "cell_type": "markdown",
   "metadata": {},
   "source": [
    "## Detections"
   ]
  },
  {
   "cell_type": "code",
   "execution_count": 6,
   "metadata": {},
   "outputs": [],
   "source": [
    "#Convert val detections\n",
    "metric_utils.yolo2text_dt(results_path + \"/val/labels\", results_path + \"/dt/val\", 0.001)"
   ]
  },
  {
   "cell_type": "code",
   "execution_count": 7,
   "metadata": {},
   "outputs": [],
   "source": [
    "#Convert val detections\n",
    "metric_utils.yolo2text_dt(results_path + \"/test/labels\", results_path + \"/dt/test\", 0.001)"
   ]
  },
  {
   "cell_type": "code",
   "execution_count": 8,
   "metadata": {},
   "outputs": [],
   "source": [
    "#Convert val detections\n",
    "metric_utils.yolo2text_dt(results_path + \"/valtest/labels\", results_path + \"/dt/valtest\", 0.001)"
   ]
  },
  {
   "cell_type": "markdown",
   "metadata": {},
   "source": [
    "## Ground Truths"
   ]
  },
  {
   "cell_type": "code",
   "execution_count": 9,
   "metadata": {},
   "outputs": [],
   "source": [
    "#Convert val gt\n",
    "metric_utils.yolo2text_gt(gt_dir + \"/val/labels\", results_path + \"/gt/val/\")"
   ]
  },
  {
   "cell_type": "code",
   "execution_count": 10,
   "metadata": {},
   "outputs": [],
   "source": [
    "#Convert test gt\n",
    "metric_utils.yolo2text_gt(gt_dir + \"/test/labels\", results_path + \"/gt/test/\")"
   ]
  },
  {
   "cell_type": "code",
   "execution_count": 11,
   "metadata": {},
   "outputs": [],
   "source": [
    "#Convert valtest gt\n",
    "metric_utils.yolo2text_gt(gt_dir + \"/valtest/labels\", results_path + \"/gt/valtest/\")"
   ]
  },
  {
   "cell_type": "markdown",
   "metadata": {},
   "source": [
    "## Missing anot generator"
   ]
  },
  {
   "cell_type": "code",
   "execution_count": 12,
   "metadata": {},
   "outputs": [],
   "source": [
    "#Sync missing val files instances to dt\n",
    "metric_utils.missing_file_gen(results_path + \"/gt/val/\", results_path + \"/dt/val/\", \"txt\")"
   ]
  },
  {
   "cell_type": "code",
   "execution_count": 13,
   "metadata": {},
   "outputs": [],
   "source": [
    "#Sync missing test files instances to dt\n",
    "metric_utils.missing_file_gen(results_path + \"/gt/test/\", results_path + \"/dt/test/\", \"txt\")"
   ]
  },
  {
   "cell_type": "code",
   "execution_count": 14,
   "metadata": {},
   "outputs": [],
   "source": [
    "#Sync missing valtest files instances to dt\n",
    "metric_utils.missing_file_gen(results_path + \"/gt/valtest/\", results_path + \"/dt/valtest/\", \"txt\")"
   ]
  },
  {
   "cell_type": "markdown",
   "metadata": {},
   "source": [
    "## MAP"
   ]
  },
  {
   "cell_type": "markdown",
   "metadata": {},
   "source": [
    "### val"
   ]
  },
  {
   "cell_type": "code",
   "execution_count": 15,
   "metadata": {
    "scrolled": true
   },
   "outputs": [
    {
     "data": {
      "text/plain": [
       "{'AP': 0.3804073385423584,\n",
       " 'AP50': 0.6810752605642634,\n",
       " 'AP75': 0.38367633991611455,\n",
       " 'APsmall': 0.31717928288768504,\n",
       " 'APmedium': 0.5334256500166604,\n",
       " 'APlarge': 0.7453042374619285,\n",
       " 'AR1': 0.4322218528615408,\n",
       " 'AR10': 0.5125275181434913,\n",
       " 'AR100': 0.5136439455757081,\n",
       " 'ARsmall': 0.4640499394594934,\n",
       " 'ARmedium': 0.629746254562431,\n",
       " 'ARlarge': 0.83375}"
      ]
     },
     "execution_count": 15,
     "metadata": {},
     "output_type": "execute_result"
    }
   ],
   "source": [
    "# Object Detection Metrics\n",
    "gts = text2bb(results_path + \"/gt/val/\", BBType.GROUND_TRUTH, BBFormat.XYX2Y2)\n",
    "dts = text2bb(results_path + \"/dt/val/\", BBType.DETECTED, BBFormat.XYX2Y2)\n",
    "\n",
    "result = get_coco_summary(gts, dts)\n",
    "result"
   ]
  },
  {
   "cell_type": "code",
   "execution_count": 16,
   "metadata": {},
   "outputs": [
    {
     "name": "stdout",
     "output_type": "stream",
     "text": [
      "0 AP = 81.86%\n",
      "1 AP = 79.62%\n",
      "2 AP = 65.48%\n",
      "3 AP = 79.56%\n",
      "4 AP = 68.87%\n",
      "5 AP = 37.35%\n",
      "mAP = 68.79%\n",
      "All:  (gt:818, dt:13480, tp:690, fp:12790, msp: 5.12%, msr: 84.35%)\n",
      "\n"
     ]
    }
   ],
   "source": [
    "#mAP Calculator\n",
    "map.calc_map(results_path + \"/gt/val/\", \n",
    "             results_path + \"/dt/val/\", \n",
    "             results_path + \"/map_out_cuts/val/\",\n",
    "             0.5)"
   ]
  },
  {
   "cell_type": "markdown",
   "metadata": {},
   "source": [
    "### test"
   ]
  },
  {
   "cell_type": "code",
   "execution_count": 17,
   "metadata": {
    "scrolled": true
   },
   "outputs": [
    {
     "data": {
      "text/plain": [
       "{'AP': 0.4078558204800216,\n",
       " 'AP50': 0.7105153371543903,\n",
       " 'AP75': 0.3794005121895558,\n",
       " 'APsmall': 0.3000993563456984,\n",
       " 'APmedium': 0.5843429489124394,\n",
       " 'APlarge': 0.4544554455445544,\n",
       " 'AR1': 0.4585940040979201,\n",
       " 'AR10': 0.5234305262269734,\n",
       " 'AR100': 0.5251627980830842,\n",
       " 'ARsmall': 0.4560541267942584,\n",
       " 'ARmedium': 0.6535075034297004,\n",
       " 'ARlarge': 0.45}"
      ]
     },
     "execution_count": 17,
     "metadata": {},
     "output_type": "execute_result"
    }
   ],
   "source": [
    "# Object Detection Metrics\n",
    "gts = text2bb(results_path + \"/gt/test/\", BBType.GROUND_TRUTH, BBFormat.XYX2Y2)\n",
    "dts = text2bb(results_path + \"/dt/test/\", BBType.DETECTED, BBFormat.XYX2Y2)\n",
    "\n",
    "result = get_coco_summary(gts, dts)\n",
    "result"
   ]
  },
  {
   "cell_type": "code",
   "execution_count": 18,
   "metadata": {},
   "outputs": [
    {
     "name": "stdout",
     "output_type": "stream",
     "text": [
      "0 AP = 75.94%\n",
      "1 AP = 71.65%\n",
      "2 AP = 58.12%\n",
      "3 AP = 78.77%\n",
      "4 AP = 90.19%\n",
      "5 AP = 57.21%\n",
      "mAP = 71.98%\n",
      "All:  (gt:473, dt:8676, tp:404, fp:8272, msp: 4.66%, msr: 85.41%)\n",
      "\n"
     ]
    }
   ],
   "source": [
    "#mAP Calculator\n",
    "map.calc_map(results_path + \"/gt/test/\", \n",
    "             results_path + \"/dt/test/\", \n",
    "             results_path + \"/map_out_cuts/test/\",\n",
    "             0.5)"
   ]
  },
  {
   "cell_type": "markdown",
   "metadata": {},
   "source": [
    "### valtest"
   ]
  },
  {
   "cell_type": "code",
   "execution_count": 19,
   "metadata": {
    "scrolled": true
   },
   "outputs": [
    {
     "data": {
      "text/plain": [
       "{'AP': 0.38696981455769,\n",
       " 'AP50': 0.6923634762437479,\n",
       " 'AP75': 0.3754293931414412,\n",
       " 'APsmall': 0.31055955879537367,\n",
       " 'APmedium': 0.5486770137779696,\n",
       " 'APlarge': 0.74211189946086,\n",
       " 'AR1': 0.4415342556376855,\n",
       " 'AR10': 0.5159989040221137,\n",
       " 'AR100': 0.5173575874690823,\n",
       " 'ARsmall': 0.460777296832325,\n",
       " 'ARmedium': 0.6390920360847215,\n",
       " 'ARlarge': 0.8306818181818182}"
      ]
     },
     "execution_count": 19,
     "metadata": {},
     "output_type": "execute_result"
    }
   ],
   "source": [
    "# Object Detection Metrics\n",
    "gts = text2bb(results_path + \"/gt/valtest/\", BBType.GROUND_TRUTH, BBFormat.XYX2Y2)\n",
    "dts = text2bb(results_path + \"/dt/valtest/\", BBType.DETECTED, BBFormat.XYX2Y2)\n",
    "\n",
    "result = get_coco_summary(gts, dts)\n",
    "result"
   ]
  },
  {
   "cell_type": "code",
   "execution_count": 20,
   "metadata": {},
   "outputs": [
    {
     "name": "stdout",
     "output_type": "stream",
     "text": [
      "0 AP = 79.49%\n",
      "1 AP = 76.36%\n",
      "2 AP = 63.08%\n",
      "3 AP = 78.40%\n",
      "4 AP = 77.09%\n",
      "5 AP = 45.24%\n",
      "mAP = 69.94%\n",
      "All:  (gt:1291, dt:22156, tp:1094, fp:21062, msp: 4.94%, msr: 84.74%)\n",
      "\n"
     ]
    }
   ],
   "source": [
    "#mAP Calculator\n",
    "map.calc_map(results_path + \"/gt/valtest/\", \n",
    "             results_path + \"/dt/valtest/\", \n",
    "             results_path + \"/map_out_cuts/valtest/\",\n",
    "             0.5)"
   ]
  },
  {
   "cell_type": "markdown",
   "metadata": {},
   "source": [
    "## Draw bbox"
   ]
  },
  {
   "cell_type": "code",
   "execution_count": 4,
   "metadata": {},
   "outputs": [],
   "source": [
    "metric_utils.comparebb(results_path + \"/gt/val/\", gt_dir + \"/val/images/\", results_path + \"/bb/val_2/\", ['2'], \"gt\")"
   ]
  },
  {
   "cell_type": "code",
   "execution_count": 6,
   "metadata": {},
   "outputs": [],
   "source": [
    "metric_utils.comparebb(results_path + \"/dt/val/\", gt_dir + \"/val/images/\", results_path + \"/bb/val_2/\", ['2'], \"dt\")"
   ]
  },
  {
   "cell_type": "code",
   "execution_count": 93,
   "metadata": {},
   "outputs": [],
   "source": [
    "metric_utils.comparebb(results_path + \"/gt/test/\", gt_dir + \"/test/images/\", results_path + \"/bb/test_2/\", ['2'], \"gt\")"
   ]
  },
  {
   "cell_type": "code",
   "execution_count": 94,
   "metadata": {},
   "outputs": [],
   "source": [
    "metric_utils.comparebb(results_path + \"/dt/test/\", gt_dir + \"/test/images/\", results_path + \"/bb/test_2/\", ['2'], \"dt\")"
   ]
  },
  {
   "cell_type": "code",
   "execution_count": 5,
   "metadata": {},
   "outputs": [],
   "source": [
    "metric_utils.comparebb(results_path + \"/gt/valtest/\", gt_dir + \"/valtest/images/\", results_path + \"/bb/valtest_2/\", ['2'], \"gt\")"
   ]
  },
  {
   "cell_type": "code",
   "execution_count": 5,
   "metadata": {},
   "outputs": [],
   "source": [
    "metric_utils.comparebb(results_path + \"/dt/valtest/\", gt_dir + \"/valtest/images/\", results_path + \"/bb/valtest_2/\", ['2'], \"dt\")"
   ]
  },
  {
   "cell_type": "code",
   "execution_count": null,
   "metadata": {},
   "outputs": [],
   "source": []
  }
 ],
 "metadata": {
  "kernelspec": {
   "display_name": "Python 3",
   "language": "python",
   "name": "python3"
  },
  "language_info": {
   "codemirror_mode": {
    "name": "ipython",
    "version": 3
   },
   "file_extension": ".py",
   "mimetype": "text/x-python",
   "name": "python",
   "nbconvert_exporter": "python",
   "pygments_lexer": "ipython3",
   "version": "3.7.3"
  }
 },
 "nbformat": 4,
 "nbformat_minor": 4
}
