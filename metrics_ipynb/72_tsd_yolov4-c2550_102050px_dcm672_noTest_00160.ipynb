{
 "cells": [
  {
   "cell_type": "code",
   "execution_count": 1,
   "metadata": {},
   "outputs": [],
   "source": [
    "import pandas as pd\n",
    "import csv\n",
    "import os\n",
    "import cv2\n",
    "\n",
    "import json\n",
    "from math import isclose\n",
    "\n",
    "from object_detection_metrics.bounding_box import BBFormat, BBType, BoundingBox\n",
    "from object_detection_metrics.evaluators.coco_evaluator import get_coco_summary\n",
    "from object_detection_metrics.utils.converter import text2bb\n",
    "\n",
    "from map import map\n",
    "\n",
    "import metric_utils"
   ]
  },
  {
   "cell_type": "code",
   "execution_count": 2,
   "metadata": {},
   "outputs": [],
   "source": [
    "results_path = \"D:/Workarea/TSD/_results/final/72_yolov4-c2550_102050px_dcm672_v12/00160\"\n",
    "meta_dir = \"D:/Workarea/TSD/_metadata\"\n",
    "gt_dir = \"D:/Workarea/TSD/_data/102050px/yolo_pytorch_dcm\""
   ]
  },
  {
   "cell_type": "code",
   "execution_count": 3,
   "metadata": {},
   "outputs": [
    {
     "data": {
      "text/html": [
       "<div>\n",
       "<style scoped>\n",
       "    .dataframe tbody tr th:only-of-type {\n",
       "        vertical-align: middle;\n",
       "    }\n",
       "\n",
       "    .dataframe tbody tr th {\n",
       "        vertical-align: top;\n",
       "    }\n",
       "\n",
       "    .dataframe thead th {\n",
       "        text-align: right;\n",
       "    }\n",
       "</style>\n",
       "<table border=\"1\" class=\"dataframe\">\n",
       "  <thead>\n",
       "    <tr style=\"text-align: right;\">\n",
       "      <th></th>\n",
       "      <th>class_id</th>\n",
       "      <th>class_name</th>\n",
       "      <th>class_short</th>\n",
       "    </tr>\n",
       "  </thead>\n",
       "  <tbody>\n",
       "    <tr>\n",
       "      <th>0</th>\n",
       "      <td>0</td>\n",
       "      <td>mandatory</td>\n",
       "      <td>MA</td>\n",
       "    </tr>\n",
       "    <tr>\n",
       "      <th>1</th>\n",
       "      <td>1</td>\n",
       "      <td>warning</td>\n",
       "      <td>WN</td>\n",
       "    </tr>\n",
       "    <tr>\n",
       "      <th>2</th>\n",
       "      <td>2</td>\n",
       "      <td>informatory</td>\n",
       "      <td>IN</td>\n",
       "    </tr>\n",
       "    <tr>\n",
       "      <th>3</th>\n",
       "      <td>3</td>\n",
       "      <td>milestone</td>\n",
       "      <td>MS</td>\n",
       "    </tr>\n",
       "    <tr>\n",
       "      <th>4</th>\n",
       "      <td>4</td>\n",
       "      <td>barrier-hazard</td>\n",
       "      <td>BH</td>\n",
       "    </tr>\n",
       "    <tr>\n",
       "      <th>5</th>\n",
       "      <td>5</td>\n",
       "      <td>other</td>\n",
       "      <td>OT</td>\n",
       "    </tr>\n",
       "  </tbody>\n",
       "</table>\n",
       "</div>"
      ],
      "text/plain": [
       "   class_id      class_name class_short\n",
       "0         0       mandatory          MA\n",
       "1         1         warning          WN\n",
       "2         2     informatory          IN\n",
       "3         3       milestone          MS\n",
       "4         4  barrier-hazard          BH\n",
       "5         5           other          OT"
      ]
     },
     "execution_count": 3,
     "metadata": {},
     "output_type": "execute_result"
    }
   ],
   "source": [
    "ts_class = pd.read_csv(meta_dir + '/ts_class.csv', sep=',', encoding='utf-8')\n",
    "ts_class"
   ]
  },
  {
   "cell_type": "markdown",
   "metadata": {},
   "source": [
    "# Cuts"
   ]
  },
  {
   "cell_type": "markdown",
   "metadata": {},
   "source": [
    "## Detections"
   ]
  },
  {
   "cell_type": "code",
   "execution_count": 4,
   "metadata": {},
   "outputs": [],
   "source": [
    "#Convert val detections\n",
    "metric_utils.yolo2text_dt(results_path + \"/val/labels\", results_path + \"/dt/val\", 0.001)"
   ]
  },
  {
   "cell_type": "code",
   "execution_count": 5,
   "metadata": {},
   "outputs": [],
   "source": [
    "#Convert val detections\n",
    "metric_utils.yolo2text_dt(results_path + \"/test/labels\", results_path + \"/dt/test\", 0.001)"
   ]
  },
  {
   "cell_type": "code",
   "execution_count": 6,
   "metadata": {},
   "outputs": [],
   "source": [
    "#Convert val detections\n",
    "metric_utils.yolo2text_dt(results_path + \"/valtest/labels\", results_path + \"/dt/valtest\", 0.001)"
   ]
  },
  {
   "cell_type": "markdown",
   "metadata": {},
   "source": [
    "## Ground Truths"
   ]
  },
  {
   "cell_type": "code",
   "execution_count": 7,
   "metadata": {},
   "outputs": [],
   "source": [
    "#Convert val gt\n",
    "metric_utils.yolo2text_gt(gt_dir + \"/val/labels\", results_path + \"/gt/val/\")"
   ]
  },
  {
   "cell_type": "code",
   "execution_count": 8,
   "metadata": {},
   "outputs": [],
   "source": [
    "#Convert test gt\n",
    "metric_utils.yolo2text_gt(gt_dir + \"/test/labels\", results_path + \"/gt/test/\")"
   ]
  },
  {
   "cell_type": "code",
   "execution_count": 9,
   "metadata": {},
   "outputs": [],
   "source": [
    "#Convert valtest gt\n",
    "metric_utils.yolo2text_gt(gt_dir + \"/valtest/labels\", results_path + \"/gt/valtest/\")"
   ]
  },
  {
   "cell_type": "markdown",
   "metadata": {},
   "source": [
    "## Missing anot generator"
   ]
  },
  {
   "cell_type": "code",
   "execution_count": 10,
   "metadata": {},
   "outputs": [],
   "source": [
    "#Sync missing val files instances to dt\n",
    "metric_utils.missing_file_gen(results_path + \"/gt/val/\", results_path + \"/dt/val/\", \"txt\")"
   ]
  },
  {
   "cell_type": "code",
   "execution_count": 11,
   "metadata": {},
   "outputs": [],
   "source": [
    "#Sync missing test files instances to dt\n",
    "metric_utils.missing_file_gen(results_path + \"/gt/test/\", results_path + \"/dt/test/\", \"txt\")"
   ]
  },
  {
   "cell_type": "code",
   "execution_count": 12,
   "metadata": {},
   "outputs": [],
   "source": [
    "#Sync missing valtest files instances to dt\n",
    "metric_utils.missing_file_gen(results_path + \"/gt/valtest/\", results_path + \"/dt/valtest/\", \"txt\")"
   ]
  },
  {
   "cell_type": "markdown",
   "metadata": {},
   "source": [
    "## MAP"
   ]
  },
  {
   "cell_type": "markdown",
   "metadata": {},
   "source": [
    "### val"
   ]
  },
  {
   "cell_type": "code",
   "execution_count": 13,
   "metadata": {
    "scrolled": true
   },
   "outputs": [
    {
     "data": {
      "text/plain": [
       "{'AP': 0.4210408859297493,\n",
       " 'AP50': 0.7371433718199404,\n",
       " 'AP75': 0.43104110503369436,\n",
       " 'APsmall': 0.2601511300797649,\n",
       " 'APmedium': 0.4798428716243486,\n",
       " 'APlarge': 0.5966118783938755,\n",
       " 'AR1': 0.4911837541215309,\n",
       " 'AR10': 0.5710452588049582,\n",
       " 'AR100': 0.5736666391833751,\n",
       " 'ARsmall': 0.42879630148440145,\n",
       " 'ARmedium': 0.6292284761055612,\n",
       " 'ARlarge': 0.6724710504549216}"
      ]
     },
     "execution_count": 13,
     "metadata": {},
     "output_type": "execute_result"
    }
   ],
   "source": [
    "# Object Detection Metrics\n",
    "gts = text2bb(results_path + \"/gt/val/\", BBType.GROUND_TRUTH, BBFormat.XYX2Y2)\n",
    "dts = text2bb(results_path + \"/dt/val/\", BBType.DETECTED, BBFormat.XYX2Y2)\n",
    "\n",
    "result = get_coco_summary(gts, dts)\n",
    "result"
   ]
  },
  {
   "cell_type": "code",
   "execution_count": 14,
   "metadata": {},
   "outputs": [
    {
     "name": "stdout",
     "output_type": "stream",
     "text": [
      "0 AP = 86.67%\n",
      "1 AP = 90.37%\n",
      "2 AP = 76.60%\n",
      "3 AP = 71.93%\n",
      "4 AP = 79.84%\n",
      "5 AP = 40.35%\n",
      "mAP = 74.29%\n",
      "All:  (gt:1535, dt:44939, tp:1403, fp:43536, msp: 3.12%, msr: 91.40%)\n",
      "\n"
     ]
    }
   ],
   "source": [
    "#mAP Calculator\n",
    "map.calc_map(results_path + \"/gt/val/\", \n",
    "             results_path + \"/dt/val/\", \n",
    "             results_path + \"/map_out_cuts/val/\",\n",
    "             0.5)"
   ]
  },
  {
   "cell_type": "markdown",
   "metadata": {},
   "source": [
    "### test"
   ]
  },
  {
   "cell_type": "code",
   "execution_count": 15,
   "metadata": {
    "scrolled": true
   },
   "outputs": [
    {
     "data": {
      "text/plain": [
       "{'AP': 0.4506429770223385,\n",
       " 'AP50': 0.766649475620876,\n",
       " 'AP75': 0.4481213627430378,\n",
       " 'APsmall': 0.20925550455540284,\n",
       " 'APmedium': 0.5119294006982555,\n",
       " 'APlarge': 0.7310974257911872,\n",
       " 'AR1': 0.5183331512504112,\n",
       " 'AR10': 0.5844206564975329,\n",
       " 'AR100': 0.587023409413257,\n",
       " 'ARsmall': 0.406391930363227,\n",
       " 'ARmedium': 0.6285755394711807,\n",
       " 'ARlarge': 0.7774771524771524}"
      ]
     },
     "execution_count": 15,
     "metadata": {},
     "output_type": "execute_result"
    }
   ],
   "source": [
    "# Object Detection Metrics\n",
    "gts = text2bb(results_path + \"/gt/test/\", BBType.GROUND_TRUTH, BBFormat.XYX2Y2)\n",
    "dts = text2bb(results_path + \"/dt/test/\", BBType.DETECTED, BBFormat.XYX2Y2)\n",
    "\n",
    "result = get_coco_summary(gts, dts)\n",
    "result"
   ]
  },
  {
   "cell_type": "code",
   "execution_count": 16,
   "metadata": {},
   "outputs": [
    {
     "name": "stdout",
     "output_type": "stream",
     "text": [
      "0 AP = 86.83%\n",
      "1 AP = 86.88%\n",
      "2 AP = 77.01%\n",
      "3 AP = 58.47%\n",
      "4 AP = 87.42%\n",
      "5 AP = 67.44%\n",
      "mAP = 77.34%\n",
      "All:  (gt:861, dt:26671, tp:795, fp:25876, msp: 2.98%, msr: 92.33%)\n",
      "\n"
     ]
    }
   ],
   "source": [
    "#mAP Calculator\n",
    "map.calc_map(results_path + \"/gt/test/\", \n",
    "             results_path + \"/dt/test/\", \n",
    "             results_path + \"/map_out_cuts/test/\",\n",
    "             0.5)"
   ]
  },
  {
   "cell_type": "markdown",
   "metadata": {},
   "source": [
    "### valtest"
   ]
  },
  {
   "cell_type": "code",
   "execution_count": 17,
   "metadata": {
    "scrolled": true
   },
   "outputs": [
    {
     "data": {
      "text/plain": [
       "{'AP': 0.42952966525685377,\n",
       " 'AP50': 0.7483231161380853,\n",
       " 'AP75': 0.4308715409804562,\n",
       " 'APsmall': 0.24133076729015993,\n",
       " 'APmedium': 0.48894666369251244,\n",
       " 'APlarge': 0.6389192316216113,\n",
       " 'AR1': 0.5008700448081729,\n",
       " 'AR10': 0.5763257975436815,\n",
       " 'AR100': 0.5789768636450039,\n",
       " 'ARsmall': 0.4272824748516854,\n",
       " 'ARmedium': 0.6312905770854699,\n",
       " 'ARlarge': 0.7193087538388647}"
      ]
     },
     "execution_count": 17,
     "metadata": {},
     "output_type": "execute_result"
    }
   ],
   "source": [
    "# Object Detection Metrics\n",
    "gts = text2bb(results_path + \"/gt/valtest/\", BBType.GROUND_TRUTH, BBFormat.XYX2Y2)\n",
    "dts = text2bb(results_path + \"/dt/valtest/\", BBType.DETECTED, BBFormat.XYX2Y2)\n",
    "\n",
    "result = get_coco_summary(gts, dts)\n",
    "result"
   ]
  },
  {
   "cell_type": "code",
   "execution_count": 18,
   "metadata": {},
   "outputs": [
    {
     "name": "stdout",
     "output_type": "stream",
     "text": [
      "0 AP = 86.78%\n",
      "1 AP = 88.85%\n",
      "2 AP = 76.65%\n",
      "3 AP = 67.10%\n",
      "4 AP = 82.46%\n",
      "5 AP = 50.72%\n",
      "mAP = 75.43%\n",
      "All:  (gt:2396, dt:71610, tp:2198, fp:69412, msp: 3.07%, msr: 91.74%)\n",
      "\n"
     ]
    }
   ],
   "source": [
    "#mAP Calculator\n",
    "map.calc_map(results_path + \"/gt/valtest/\", \n",
    "             results_path + \"/dt/valtest/\", \n",
    "             results_path + \"/map_out_cuts/valtest/\",\n",
    "             0.5)"
   ]
  },
  {
   "cell_type": "markdown",
   "metadata": {},
   "source": [
    "## Draw bbox"
   ]
  },
  {
   "cell_type": "code",
   "execution_count": 19,
   "metadata": {},
   "outputs": [
    {
     "ename": "KeyboardInterrupt",
     "evalue": "",
     "output_type": "error",
     "traceback": [
      "\u001b[1;31m---------------------------------------------------------------------------\u001b[0m",
      "\u001b[1;31mKeyboardInterrupt\u001b[0m                         Traceback (most recent call last)",
      "\u001b[1;32m<ipython-input-19-46a0ce9252d2>\u001b[0m in \u001b[0;36m<module>\u001b[1;34m\u001b[0m\n\u001b[1;32m----> 1\u001b[1;33m \u001b[0mmetric_utils\u001b[0m\u001b[1;33m.\u001b[0m\u001b[0mcomparebb\u001b[0m\u001b[1;33m(\u001b[0m\u001b[0mresults_path\u001b[0m \u001b[1;33m+\u001b[0m \u001b[1;34m\"/gt/val/\"\u001b[0m\u001b[1;33m,\u001b[0m \u001b[0mgt_dir\u001b[0m \u001b[1;33m+\u001b[0m \u001b[1;34m\"/val/images/\"\u001b[0m\u001b[1;33m,\u001b[0m \u001b[0mresults_path\u001b[0m \u001b[1;33m+\u001b[0m \u001b[1;34m\"/bb/val_2/\"\u001b[0m\u001b[1;33m,\u001b[0m \u001b[1;33m[\u001b[0m\u001b[1;34m'2'\u001b[0m\u001b[1;33m]\u001b[0m\u001b[1;33m,\u001b[0m \u001b[1;34m\"gt\"\u001b[0m\u001b[1;33m)\u001b[0m\u001b[1;33m\u001b[0m\u001b[1;33m\u001b[0m\u001b[0m\n\u001b[0m",
      "\u001b[1;32mC:\\Workarea\\ipynb\\MSc_MLAI\\TSD\\TSD\\metrics\\final\\metric_utils.py\u001b[0m in \u001b[0;36mcomparebb\u001b[1;34m(anot_dir, orig_image_dir, dest_dir, classes, type_, ts_class)\u001b[0m\n\u001b[0;32m    335\u001b[0m             \u001b[1;31m#print(gt_dir + \"/test/images/\" + os.path.basename(yolo_file).replace('.txt', '.jpg'))\u001b[0m\u001b[1;33m\u001b[0m\u001b[1;33m\u001b[0m\u001b[1;33m\u001b[0m\u001b[0m\n\u001b[0;32m    336\u001b[0m \u001b[1;33m\u001b[0m\u001b[0m\n\u001b[1;32m--> 337\u001b[1;33m             \u001b[0mframe\u001b[0m \u001b[1;33m=\u001b[0m \u001b[0mcv2\u001b[0m\u001b[1;33m.\u001b[0m\u001b[0mimread\u001b[0m\u001b[1;33m(\u001b[0m\u001b[0morig_image_dir\u001b[0m \u001b[1;33m+\u001b[0m \u001b[1;34m\"/\"\u001b[0m \u001b[1;33m+\u001b[0m \u001b[0mos\u001b[0m\u001b[1;33m.\u001b[0m\u001b[0mpath\u001b[0m\u001b[1;33m.\u001b[0m\u001b[0mbasename\u001b[0m\u001b[1;33m(\u001b[0m\u001b[0myolo_file\u001b[0m\u001b[1;33m)\u001b[0m\u001b[1;33m.\u001b[0m\u001b[0mreplace\u001b[0m\u001b[1;33m(\u001b[0m\u001b[1;34m'.txt'\u001b[0m\u001b[1;33m,\u001b[0m \u001b[1;34m'.jpg'\u001b[0m\u001b[1;33m)\u001b[0m\u001b[1;33m)\u001b[0m\u001b[1;33m\u001b[0m\u001b[1;33m\u001b[0m\u001b[0m\n\u001b[0m\u001b[0;32m    338\u001b[0m \u001b[1;33m\u001b[0m\u001b[0m\n\u001b[0;32m    339\u001b[0m             \u001b[0mdraw_bb\u001b[0m\u001b[1;33m(\u001b[0m\u001b[0mframe\u001b[0m\u001b[1;33m,\u001b[0m \u001b[0manot_details\u001b[0m\u001b[1;33m,\u001b[0m \u001b[0mdest_dir\u001b[0m \u001b[1;33m+\u001b[0m \u001b[1;34m\"/\"\u001b[0m \u001b[1;33m+\u001b[0m \u001b[0mos\u001b[0m\u001b[1;33m.\u001b[0m\u001b[0mpath\u001b[0m\u001b[1;33m.\u001b[0m\u001b[0mbasename\u001b[0m\u001b[1;33m(\u001b[0m\u001b[0myolo_file\u001b[0m\u001b[1;33m)\u001b[0m\u001b[1;33m.\u001b[0m\u001b[0mreplace\u001b[0m\u001b[1;33m(\u001b[0m\u001b[1;34m'.txt'\u001b[0m\u001b[1;33m,\u001b[0m \u001b[1;34m'_'\u001b[0m \u001b[1;33m+\u001b[0m \u001b[0mtype_\u001b[0m \u001b[1;33m+\u001b[0m \u001b[1;34m'.jpg'\u001b[0m\u001b[1;33m)\u001b[0m\u001b[1;33m)\u001b[0m\u001b[1;33m\u001b[0m\u001b[1;33m\u001b[0m\u001b[0m\n",
      "\u001b[1;31mKeyboardInterrupt\u001b[0m: "
     ]
    }
   ],
   "source": [
    "metric_utils.comparebb(results_path + \"/gt/val/\", gt_dir + \"/val/images/\", results_path + \"/bb/val_2/\", ['2'], \"gt\")"
   ]
  },
  {
   "cell_type": "code",
   "execution_count": 6,
   "metadata": {},
   "outputs": [],
   "source": [
    "metric_utils.comparebb(results_path + \"/dt/val/\", gt_dir + \"/val/images/\", results_path + \"/bb/val_2/\", ['2'], \"dt\")"
   ]
  },
  {
   "cell_type": "code",
   "execution_count": 93,
   "metadata": {},
   "outputs": [],
   "source": [
    "metric_utils.comparebb(results_path + \"/gt/test/\", gt_dir + \"/test/images/\", results_path + \"/bb/test_2/\", ['2'], \"gt\")"
   ]
  },
  {
   "cell_type": "code",
   "execution_count": 94,
   "metadata": {},
   "outputs": [],
   "source": [
    "metric_utils.comparebb(results_path + \"/dt/test/\", gt_dir + \"/test/images/\", results_path + \"/bb/test_2/\", ['2'], \"dt\")"
   ]
  },
  {
   "cell_type": "code",
   "execution_count": 5,
   "metadata": {},
   "outputs": [],
   "source": [
    "metric_utils.comparebb(results_path + \"/gt/valtest/\", gt_dir + \"/valtest/images/\", results_path + \"/bb/valtest_2/\", ['2'], \"gt\")"
   ]
  },
  {
   "cell_type": "code",
   "execution_count": 5,
   "metadata": {},
   "outputs": [],
   "source": [
    "metric_utils.comparebb(results_path + \"/dt/valtest/\", gt_dir + \"/valtest/images/\", results_path + \"/bb/valtest_2/\", ['2'], \"dt\")"
   ]
  },
  {
   "cell_type": "markdown",
   "metadata": {},
   "source": [
    "# Merged"
   ]
  },
  {
   "cell_type": "code",
   "execution_count": 20,
   "metadata": {},
   "outputs": [],
   "source": [
    "gt_dir = \"D:/Workarea/TSD/_data/102050px/yolo_pytorch\" #no balancing in val and text sets\n",
    "\n",
    "with open(meta_dir + '/idd_ts_anot_details_v12.csv', newline='') as ts_file:\n",
    "    next(ts_file)\n",
    "    ts_signs = list(csv.reader(ts_file))\n",
    "\n",
    "#print(ts_signs[:5])\n",
    "\n",
    "image_sizes = pd.DataFrame(ts_signs)\n",
    "image_sizes = image_sizes[[0,10]]\n",
    "image_sizes.columns = ['image_id', 'image_size']"
   ]
  },
  {
   "cell_type": "markdown",
   "metadata": {},
   "source": [
    "## Detections"
   ]
  },
  {
   "cell_type": "code",
   "execution_count": 21,
   "metadata": {},
   "outputs": [],
   "source": [
    "#Convert val detections\n",
    "metric_utils.yolo2text_dt(results_path + \"/val/labels_merged\", results_path + \"/dt_merged/val\", 0.001, None, image_sizes)"
   ]
  },
  {
   "cell_type": "code",
   "execution_count": 22,
   "metadata": {},
   "outputs": [],
   "source": [
    "#Convert val detections\n",
    "metric_utils.yolo2text_dt(results_path + \"/test/labels_merged\", results_path + \"/dt_merged/test\", 0.001, None, image_sizes)"
   ]
  },
  {
   "cell_type": "code",
   "execution_count": 23,
   "metadata": {},
   "outputs": [],
   "source": [
    "#Convert val detections\n",
    "metric_utils.yolo2text_dt(results_path + \"/valtest/labels_merged\", results_path + \"/dt_merged/valtest\", 0.001, None, image_sizes)"
   ]
  },
  {
   "cell_type": "markdown",
   "metadata": {},
   "source": [
    "## Ground Truths"
   ]
  },
  {
   "cell_type": "code",
   "execution_count": 24,
   "metadata": {},
   "outputs": [],
   "source": [
    "#Convert val gt\n",
    "metric_utils.yolo2text_gt(gt_dir + \"/val/labels\", results_path + \"/gt_merged/val/\", None, image_sizes)"
   ]
  },
  {
   "cell_type": "code",
   "execution_count": 25,
   "metadata": {},
   "outputs": [],
   "source": [
    "#Convert test gt\n",
    "metric_utils.yolo2text_gt(gt_dir + \"/test/labels\", results_path + \"/gt_merged/test/\", None, image_sizes)"
   ]
  },
  {
   "cell_type": "code",
   "execution_count": 26,
   "metadata": {},
   "outputs": [],
   "source": [
    "#Convert valtest gt\n",
    "metric_utils.yolo2text_gt(gt_dir + \"/valtest/labels\", results_path + \"/gt_merged/valtest/\", None, image_sizes)"
   ]
  },
  {
   "cell_type": "markdown",
   "metadata": {},
   "source": [
    "## Missing anot generator"
   ]
  },
  {
   "cell_type": "code",
   "execution_count": 27,
   "metadata": {},
   "outputs": [],
   "source": [
    "#Sync missing val files instances to dt\n",
    "metric_utils.missing_file_gen(results_path + \"/gt_merged/val/\", results_path + \"/dt_merged/val/\", \"txt\")"
   ]
  },
  {
   "cell_type": "code",
   "execution_count": 28,
   "metadata": {},
   "outputs": [],
   "source": [
    "#Sync missing test files instances to dt\n",
    "metric_utils.missing_file_gen(results_path + \"/gt_merged/test/\", results_path + \"/dt_merged/test/\", \"txt\")"
   ]
  },
  {
   "cell_type": "code",
   "execution_count": 29,
   "metadata": {},
   "outputs": [],
   "source": [
    "#Sync missing valtest files instances to dt\n",
    "metric_utils.missing_file_gen(results_path + \"/gt_merged/valtest/\", results_path + \"/dt_merged/valtest/\", \"txt\")"
   ]
  },
  {
   "cell_type": "markdown",
   "metadata": {},
   "source": [
    "## MAP"
   ]
  },
  {
   "cell_type": "markdown",
   "metadata": {},
   "source": [
    "### val"
   ]
  },
  {
   "cell_type": "code",
   "execution_count": 30,
   "metadata": {
    "scrolled": true
   },
   "outputs": [
    {
     "data": {
      "text/plain": [
       "{'AP': 0.4246806575444921,\n",
       " 'AP50': 0.7580891782713278,\n",
       " 'AP75': 0.427380551597586,\n",
       " 'APsmall': 0.26923005859424726,\n",
       " 'APmedium': 0.47014240928897505,\n",
       " 'APlarge': 0.5649237420078908,\n",
       " 'AR1': 0.46918816531285934,\n",
       " 'AR10': 0.5207331438621218,\n",
       " 'AR100': 0.5207331438621218,\n",
       " 'ARsmall': 0.368458198258327,\n",
       " 'ARmedium': 0.5456826658591364,\n",
       " 'ARlarge': 0.6237256335282652}"
      ]
     },
     "execution_count": 30,
     "metadata": {},
     "output_type": "execute_result"
    }
   ],
   "source": [
    "# Object Detection Metrics\n",
    "gts = text2bb(results_path + \"/gt_merged/val/\", BBType.GROUND_TRUTH, BBFormat.XYX2Y2)\n",
    "dts = text2bb(results_path + \"/dt_merged/val/\", BBType.DETECTED, BBFormat.XYX2Y2)\n",
    "\n",
    "result = get_coco_summary(gts, dts)\n",
    "result"
   ]
  },
  {
   "cell_type": "code",
   "execution_count": 31,
   "metadata": {},
   "outputs": [
    {
     "name": "stdout",
     "output_type": "stream",
     "text": [
      "0 AP = 91.66%\n",
      "1 AP = 89.68%\n",
      "2 AP = 68.77%\n",
      "3 AP = 83.43%\n",
      "4 AP = 80.88%\n",
      "5 AP = 44.56%\n",
      "mAP = 76.50%\n",
      "All:  (gt:818, dt:1292, tp:694, fp:598, msp: 53.72%, msr: 84.84%)\n",
      "\n"
     ]
    }
   ],
   "source": [
    "#mAP Calculator\n",
    "map.calc_map(results_path + \"/gt_merged/val/\", \n",
    "             results_path + \"/dt_merged/val/\", \n",
    "             results_path + \"/map_out_merged/val/\",\n",
    "             0.5)"
   ]
  },
  {
   "cell_type": "markdown",
   "metadata": {},
   "source": [
    "### test"
   ]
  },
  {
   "cell_type": "code",
   "execution_count": 32,
   "metadata": {
    "scrolled": true
   },
   "outputs": [
    {
     "data": {
      "text/plain": [
       "{'AP': 0.47117412794029884,\n",
       " 'AP50': 0.7899739906476105,\n",
       " 'AP75': 0.48207437432971356,\n",
       " 'APsmall': 0.25944887936304545,\n",
       " 'APmedium': 0.49200222041359354,\n",
       " 'APlarge': 0.6938229785863741,\n",
       " 'AR1': 0.5357309531029224,\n",
       " 'AR10': 0.5669373627923042,\n",
       " 'AR100': 0.5669373627923042,\n",
       " 'ARsmall': 0.508177426438296,\n",
       " 'ARmedium': 0.5663472195565792,\n",
       " 'ARlarge': 0.7510582010582011}"
      ]
     },
     "execution_count": 32,
     "metadata": {},
     "output_type": "execute_result"
    }
   ],
   "source": [
    "# Object Detection Metrics\n",
    "gts = text2bb(results_path + \"/gt_merged/test/\", BBType.GROUND_TRUTH, BBFormat.XYX2Y2)\n",
    "dts = text2bb(results_path + \"/dt_merged/test/\", BBType.DETECTED, BBFormat.XYX2Y2)\n",
    "\n",
    "result = get_coco_summary(gts, dts)\n",
    "result"
   ]
  },
  {
   "cell_type": "code",
   "execution_count": 33,
   "metadata": {},
   "outputs": [
    {
     "name": "stdout",
     "output_type": "stream",
     "text": [
      "0 AP = 89.35%\n",
      "1 AP = 86.57%\n",
      "2 AP = 72.61%\n",
      "3 AP = 77.71%\n",
      "4 AP = 93.25%\n",
      "5 AP = 56.53%\n",
      "mAP = 79.34%\n",
      "All:  (gt:473, dt:731, tp:414, fp:317, msp: 56.63%, msr: 87.53%)\n",
      "\n"
     ]
    }
   ],
   "source": [
    "#mAP Calculator\n",
    "map.calc_map(results_path + \"/gt_merged/test/\", \n",
    "             results_path + \"/dt_merged/test/\", \n",
    "             results_path + \"/map_out_merged/test/\",\n",
    "             0.5)"
   ]
  },
  {
   "cell_type": "markdown",
   "metadata": {},
   "source": [
    "### valtest"
   ]
  },
  {
   "cell_type": "code",
   "execution_count": 34,
   "metadata": {
    "scrolled": true
   },
   "outputs": [
    {
     "data": {
      "text/plain": [
       "{'AP': 0.4382240267839262,\n",
       " 'AP50': 0.7678593966017834,\n",
       " 'AP75': 0.44197844570073674,\n",
       " 'APsmall': 0.26131827949385245,\n",
       " 'APmedium': 0.47743429935368564,\n",
       " 'APlarge': 0.6000987512195606,\n",
       " 'AR1': 0.4928814072651449,\n",
       " 'AR10': 0.5380317610900444,\n",
       " 'AR100': 0.5380317610900444,\n",
       " 'ARsmall': 0.4042181547271055,\n",
       " 'ARmedium': 0.55870338093549,\n",
       " 'ARlarge': 0.6762156304117087}"
      ]
     },
     "execution_count": 34,
     "metadata": {},
     "output_type": "execute_result"
    }
   ],
   "source": [
    "# Object Detection Metrics\n",
    "gts = text2bb(results_path + \"/gt_merged/valtest/\", BBType.GROUND_TRUTH, BBFormat.XYX2Y2)\n",
    "dts = text2bb(results_path + \"/dt_merged/valtest/\", BBType.DETECTED, BBFormat.XYX2Y2)\n",
    "\n",
    "result = get_coco_summary(gts, dts)\n",
    "result"
   ]
  },
  {
   "cell_type": "code",
   "execution_count": 35,
   "metadata": {},
   "outputs": [
    {
     "name": "stdout",
     "output_type": "stream",
     "text": [
      "0 AP = 90.84%\n",
      "1 AP = 88.28%\n",
      "2 AP = 69.88%\n",
      "3 AP = 81.22%\n",
      "4 AP = 85.38%\n",
      "5 AP = 48.82%\n",
      "mAP = 77.40%\n",
      "All:  (gt:1291, dt:2023, tp:1108, fp:915, msp: 54.77%, msr: 85.82%)\n",
      "\n"
     ]
    }
   ],
   "source": [
    "#mAP Calculator\n",
    "map.calc_map(results_path + \"/gt_merged/valtest/\", \n",
    "             results_path + \"/dt_merged/valtest/\", \n",
    "             results_path + \"/map_out_merged/valtest/\",\n",
    "             0.5)"
   ]
  },
  {
   "cell_type": "markdown",
   "metadata": {},
   "source": [
    "## Draw bbox"
   ]
  },
  {
   "cell_type": "code",
   "execution_count": 5,
   "metadata": {},
   "outputs": [],
   "source": [
    "metric_utils.comparebb(results_path + \"/gt_merged/val/\", gt_dir + \"/val/images/\", \n",
    "                       results_path + \"/bb_merged/val_2/\", ['2'], \"gt\")"
   ]
  },
  {
   "cell_type": "code",
   "execution_count": 70,
   "metadata": {},
   "outputs": [],
   "source": [
    "metric_utils.comparebb(results_path + \"/dt_merged/val/\", gt_dir + \"/val/images/\", \n",
    "                       results_path + \"/bb_merged/val_0/\", ['0'], \"dt\")"
   ]
  },
  {
   "cell_type": "code",
   "execution_count": 72,
   "metadata": {},
   "outputs": [],
   "source": [
    "metric_utils.comparebb(results_path + \"/gt_merged/test/\", gt_dir + \"/test/images/\", \n",
    "                       results_path + \"/bb_merged/test_0/\", ['0'], \"gt\")"
   ]
  },
  {
   "cell_type": "code",
   "execution_count": 71,
   "metadata": {},
   "outputs": [],
   "source": [
    "metric_utils.comparebb(results_path + \"/dt_merged/test/\", gt_dir + \"/test/images/\", \n",
    "                       results_path + \"/bb_merged/test_0/\", ['0'], \"dt\")"
   ]
  },
  {
   "cell_type": "code",
   "execution_count": 66,
   "metadata": {},
   "outputs": [],
   "source": [
    "metric_utils.comparebb(results_path + \"/gt_merged/valtest/\", gt_dir + \"/valtest/images/\", \n",
    "                       results_path + \"/bb_merged/valtest_2/\", ['2'], \"gt\")"
   ]
  },
  {
   "cell_type": "code",
   "execution_count": 67,
   "metadata": {},
   "outputs": [],
   "source": [
    "metric_utils.comparebb(results_path + \"/dt_merged/valtest/\", gt_dir + \"/valtest/images/\", \n",
    "                       results_path + \"/bb_merged/valtest_2/\", ['2'], \"dt\")"
   ]
  },
  {
   "cell_type": "code",
   "execution_count": null,
   "metadata": {},
   "outputs": [],
   "source": []
  }
 ],
 "metadata": {
  "kernelspec": {
   "display_name": "Python 3",
   "language": "python",
   "name": "python3"
  },
  "language_info": {
   "codemirror_mode": {
    "name": "ipython",
    "version": 3
   },
   "file_extension": ".py",
   "mimetype": "text/x-python",
   "name": "python",
   "nbconvert_exporter": "python",
   "pygments_lexer": "ipython3",
   "version": "3.7.3"
  }
 },
 "nbformat": 4,
 "nbformat_minor": 4
}
